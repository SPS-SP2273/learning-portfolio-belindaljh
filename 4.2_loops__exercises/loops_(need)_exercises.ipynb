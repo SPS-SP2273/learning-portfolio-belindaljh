{
 "cells": [
  {
   "attachments": {},
   "cell_type": "markdown",
   "id": "123456",
   "metadata": {},
   "source": [
    "<div style=\"text-align:left;font-size:2em\"><span style=\"font-weight:bolder;font-size:1.25em\">SP2273 | Learning Portfolio</span><br><br><span style=\"font-weight:bold;color:darkred\">Loops (Need) Exercises</span></div>"
   ]
  },
  {
   "cell_type": "markdown",
   "id": "8543b955",
   "metadata": {},
   "source": [
    "# Exercise 1 (celsius to fahrenheit)"
   ]
  },
  {
   "cell_type": "code",
   "execution_count": 8,
   "id": "14fed707",
   "metadata": {},
   "outputs": [
    {
     "name": "stdout",
     "output_type": "stream",
     "text": [
      "0, 32.0\n",
      "5, 41.0\n",
      "10, 50.0\n",
      "15, 59.0\n",
      "20, 68.0\n",
      "25, 77.0\n",
      "30, 86.0\n",
      "35, 95.0\n",
      "40, 104.0\n",
      "45, 113.0\n",
      "50, 122.0\n"
     ]
    }
   ],
   "source": [
    "temperatures_celsius = [\n",
    "    0, 5, 10, 15, 20, 25,\n",
    "    30, 35, 40, 45, 50\n",
    "]\n",
    "for temp_c in temperatures_celsius: \n",
    "    temp_f = temp_c*(9/5)+32\n",
    "    print(temp_c, temp_f, sep=', ')\n"
   ]
  },
  {
   "cell_type": "markdown",
   "id": "dba1dc93",
   "metadata": {},
   "source": [
    "# Exercise 2 (multiplication table)"
   ]
  },
  {
   "cell_type": "code",
   "execution_count": null,
   "id": "7daf5c0f",
   "metadata": {},
   "outputs": [
    {
     "name": "stdout",
     "output_type": "stream",
     "text": [
      "A1\tA2\tA3\t\n",
      "\n",
      "B1\tB2\tB3\t\n",
      "\n",
      "C1\tC2\tC3\t\n",
      "\n"
     ]
    }
   ],
   "source": [
    "# example \n",
    "for letter in ['A', 'B', 'C']:\n",
    "    for number in [1, 2, 3]:\n",
    "        print(f'{letter}{number}', end='\\t')\n",
    "    print('\\n')"
   ]
  },
  {
   "cell_type": "code",
   "execution_count": 27,
   "id": "b607d2c2",
   "metadata": {},
   "outputs": [
    {
     "name": "stdout",
     "output_type": "stream",
     "text": [
      "1:\t1\t2\t3\t4\t5\t\n",
      "\n",
      "2:\t2\t4\t6\t8\t10\t\n",
      "\n",
      "3:\t3\t6\t9\t12\t15\t\n",
      "\n",
      "4:\t4\t8\t12\t16\t20\t\n",
      "\n",
      "5:\t5\t10\t15\t20\t25\t\n",
      "\n"
     ]
    }
   ],
   "source": [
    "# task \n",
    "for number in [1, 2, 3, 4, 5]:\n",
    "    print(f'{number}:', end='\\t')\n",
    "    for multiplier in [1, 2, 3, 4, 5]: \n",
    "        print(f'{number*multiplier}', end='\\t')\n",
    "    print('\\n')"
   ]
  },
  {
   "cell_type": "markdown",
   "id": "624bccb4",
   "metadata": {},
   "source": [
    "# Exercise 3 (Simulating a Coin Flip Experiment)"
   ]
  },
  {
   "cell_type": "code",
   "execution_count": 46,
   "id": "a8eeff8c",
   "metadata": {},
   "outputs": [
    {
     "name": "stdout",
     "output_type": "stream",
     "text": [
      "[0.83973561 0.90309321 0.04400331 0.28478717 0.84484889 0.03549522\n",
      " 0.03059728 0.30059578 0.44574921 0.9267753 ]\n",
      "Experiment 1: No. of Heads=  4\n"
     ]
    }
   ],
   "source": [
    "# example + try first\n",
    "import numpy as np\n",
    "np.array = np.random.rand(10)\n",
    "print(np.array)\n",
    "my_mask = np.array > 0.5\n",
    "my_mask\n",
    "sum(my_mask)\n",
    "print('Experiment 1: No. of Heads= ', sum(my_mask))"
   ]
  },
  {
   "cell_type": "code",
   "execution_count": 61,
   "id": "c99f5881",
   "metadata": {},
   "outputs": [
    {
     "name": "stdout",
     "output_type": "stream",
     "text": [
      "Experiment 1: No. of Heads=  3\n",
      "Experiment 2: No. of Heads=  1\n",
      "Experiment 3: No. of Heads=  4\n",
      "Experiment 4: No. of Heads=  4\n",
      "Experiment 5: No. of Heads=  8\n",
      "Experiment 6: No. of Heads=  2\n",
      "Experiment 7: No. of Heads=  5\n",
      "Experiment 8: No. of Heads=  4\n",
      "Experiment 9: No. of Heads=  4\n",
      "Experiment 10: No. of Heads=  6\n"
     ]
    }
   ],
   "source": [
    "for number in range(1,11):\n",
    "    np.array = np.random.rand(10)  \n",
    "    my_mask = np.array > 0.5 \n",
    "    my_mask\n",
    "    sum(my_mask)\n",
    "    print(f'Experiment {number}: No. of Heads= ', sum(my_mask))"
   ]
  },
  {
   "cell_type": "code",
   "execution_count": null,
   "id": "0f3086c1",
   "metadata": {},
   "outputs": [],
   "source": []
  }
 ],
 "metadata": {
  "kernelspec": {
   "display_name": "base",
   "language": "python",
   "name": "python3"
  },
  "language_info": {
   "codemirror_mode": {
    "name": "ipython",
    "version": 3
   },
   "file_extension": ".py",
   "mimetype": "text/x-python",
   "name": "python",
   "nbconvert_exporter": "python",
   "pygments_lexer": "ipython3",
   "version": "3.13.5"
  },
  "toc": {
   "base_numbering": 1,
   "nav_menu": {},
   "number_sections": true,
   "sideBar": true,
   "skip_h1_title": false,
   "title_cell": "Table of Contents",
   "title_sidebar": "Contents",
   "toc_cell": false,
   "toc_position": {},
   "toc_section_display": true,
   "toc_window_display": false
  }
 },
 "nbformat": 4,
 "nbformat_minor": 5
}
