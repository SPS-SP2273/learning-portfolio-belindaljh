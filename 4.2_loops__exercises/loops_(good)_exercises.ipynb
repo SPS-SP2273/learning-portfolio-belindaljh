{
 "cells": [
  {
   "attachments": {},
   "cell_type": "markdown",
   "id": "123456",
   "metadata": {},
   "source": [
    "<div style=\"text-align:left;font-size:2em\"><span style=\"font-weight:bolder;font-size:1.25em\">SP2273 | Learning Portfolio</span><br><br><span style=\"font-weight:bold;color:darkred\">Loops (Good) Exercises</span></div>"
   ]
  },
  {
   "cell_type": "markdown",
   "id": "028aa262",
   "metadata": {},
   "source": [
    "## Exercise 1 (make an odd list #1)"
   ]
  },
  {
   "cell_type": "code",
   "execution_count": null,
   "id": "9946854a",
   "metadata": {},
   "outputs": [
    {
     "name": "stdout",
     "output_type": "stream",
     "text": [
      "[0 1 2 3 4 5 6 7 8 9]\n",
      "[ 1  9 25 49 81]\n"
     ]
    }
   ],
   "source": [
    "# WRONG ONE COS DOESN'T FULFIL EXERCISE REQUIREMENTS \n",
    "import numpy as np\n",
    "numbers = list(range(0,10))\n",
    "array = np.array(numbers)\n",
    "print(array)\n",
    "mask = array%2 == 0 \n",
    "print(array[~mask]**2)\n"
   ]
  },
  {
   "cell_type": "code",
   "execution_count": null,
   "id": "6bd73748",
   "metadata": {},
   "outputs": [
    {
     "name": "stdout",
     "output_type": "stream",
     "text": [
      "1\n",
      "9\n",
      "25\n",
      "49\n",
      "81\n"
     ]
    }
   ],
   "source": [
    "# correct one                       #self-note: refer to loops(good) notes\n",
    "my_list = range(0,10)\n",
    "for number in my_list:              #for each integer from 0 to 9\n",
    "    if number%2 == 0:               #if the remainder after dividing by 2 is 0, i.e. the int is an even number\n",
    "        continue                    #don't proceed (skip the even number)\n",
    "    sq_odd_int = number**2          #square only the odd integers \n",
    "    print(sq_odd_int)\n",
    "# but why does it print vertically instead of in a horizontal list?"
   ]
  },
  {
   "cell_type": "markdown",
   "id": "82e243d3",
   "metadata": {},
   "source": [
    "## Exercise 2 (make an odd list #2)"
   ]
  },
  {
   "cell_type": "code",
   "execution_count": 8,
   "id": "b0c9c60e",
   "metadata": {},
   "outputs": [
    {
     "data": {
      "text/plain": [
       "[1, 9, 25, 49, 81]"
      ]
     },
     "execution_count": 8,
     "metadata": {},
     "output_type": "execute_result"
    }
   ],
   "source": [
    "# repeat exercise 1 with list comprehension\n",
    "[number**2 for number in range(0,10) if number%2 == 1]  #sq the number in the given range if the number \n",
    "                                                        #give remainder 1 after dividing by 2. "
   ]
  },
  {
   "cell_type": "markdown",
   "id": "6e42cc21",
   "metadata": {},
   "source": [
    "## Exercise 3 (time)"
   ]
  },
  {
   "cell_type": "code",
   "execution_count": null,
   "id": "fb107b40",
   "metadata": {},
   "outputs": [
    {
     "name": "stdout",
     "output_type": "stream",
     "text": [
      "971 ns ± 101 ns per loop (mean ± std. dev. of 7 runs, 1,000,000 loops each)\n"
     ]
    }
   ],
   "source": [
    "%%timeit                            # timing solution 1 \n",
    "my_list = range(0,10)\n",
    "for number in my_list:              #for each integer from 0 to 9\n",
    "    if number%2 == 0:               #if the remainder after dividing by 2 is 0, i.e. the int is an even number\n",
    "        continue                    #don't proceed (skip the even number)\n",
    "    sq_odd_int = number**2          #square only the odd integers "
   ]
  },
  {
   "cell_type": "code",
   "execution_count": 9,
   "id": "58fc1b53",
   "metadata": {},
   "outputs": [
    {
     "name": "stdout",
     "output_type": "stream",
     "text": [
      "1.03 μs ± 123 ns per loop (mean ± std. dev. of 7 runs, 1,000,000 loops each)\n"
     ]
    }
   ],
   "source": [
    "%%timeit                                                # timing solution 2\n",
    "[number**2 for number in range(0,10) if number%2 == 1]  #sq the number in the given range if the number \n",
    "                                                        #give remainder 1 after dividing by 2. "
   ]
  },
  {
   "cell_type": "markdown",
   "id": "32253555",
   "metadata": {},
   "source": [
    "Comparing both methods, solution 2 is faster. (but why)"
   ]
  },
  {
   "cell_type": "markdown",
   "id": "67c42e22",
   "metadata": {},
   "source": [
    "## Exercise 4 (decay problem)"
   ]
  },
  {
   "cell_type": "code",
   "execution_count": null,
   "id": "bf6deabb",
   "metadata": {},
   "outputs": [
    {
     "name": "stdout",
     "output_type": "stream",
     "text": [
      "Total number of years it will take is 14.\n"
     ]
    }
   ],
   "source": [
    "quantity = 100\n",
    "years = 0                                   #initial 'time'\n",
    "while quantity > 50:                        #as long as the quantity is still > 50 after the 5% decay\n",
    "    quantity = quantity - (0.05*quantity)   #continue decaying\n",
    "    if quantity < 48 :                      #until first quantity below half of original amount is reached\n",
    "        break\n",
    "    years += 1                              #add 1 year for every 5% decay that occurs until og amt is reached\n",
    "print(f\"Total number of years it will take is {years}.\")    # rmb to put it outside the while loop\n"
   ]
  },
  {
   "cell_type": "markdown",
   "id": "bfcc124c",
   "metadata": {},
   "source": [
    "## Exercise 5 (changes in CO2)"
   ]
  },
  {
   "cell_type": "code",
   "execution_count": 2,
   "id": "5afd5e37",
   "metadata": {},
   "outputs": [
    {
     "name": "stdout",
     "output_type": "stream",
     "text": [
      "2016.0: 3.410000000000025 ppm increase\n"
     ]
    }
   ],
   "source": [
    "co2_data = [\n",
    "    (2000, 369.55), (2001, 371.14), (2002, 373.28), \n",
    "    (2003, 375.80), (2004, 377.52), (2005, 379.80), \n",
    "    (2006, 381.90), (2007, 383.79), (2008, 385.60), \n",
    "    (2009, 387.43), (2010, 389.90), (2011, 391.65), \n",
    "    (2012, 393.85), (2013, 396.52), (2014, 398.65),\n",
    "    (2015, 400.83), (2016, 404.24), (2017, 406.55), \n",
    "    (2018, 408.52), (2019, 411.44), (2020, 414.24)\n",
    "]\n",
    "import numpy as np\n",
    "np_co2_array = np.array(co2_data)\n",
    "for i in range(1, len(np_co2_array)):   # start at 1 so there’s a \"previous\" to compare to \n",
    "    current_year, current_co2 = np_co2_array[i]\n",
    "    prev_year, prev_co2 = np_co2_array[i-1]\n",
    "\n",
    "    diff = current_co2 - prev_co2\n",
    "    if diff >= 3:\n",
    "        print(f\"{current_year}: {diff} ppm increase\")\n",
    "\n"
   ]
  },
  {
   "cell_type": "code",
   "execution_count": null,
   "id": "49e2f5dd",
   "metadata": {},
   "outputs": [],
   "source": []
  }
 ],
 "metadata": {
  "kernelspec": {
   "display_name": "base",
   "language": "python",
   "name": "python3"
  },
  "language_info": {
   "codemirror_mode": {
    "name": "ipython",
    "version": 3
   },
   "file_extension": ".py",
   "mimetype": "text/x-python",
   "name": "python",
   "nbconvert_exporter": "python",
   "pygments_lexer": "ipython3",
   "version": "3.13.5"
  },
  "toc": {
   "base_numbering": 1,
   "nav_menu": {},
   "number_sections": true,
   "sideBar": true,
   "skip_h1_title": false,
   "title_cell": "Table of Contents",
   "title_sidebar": "Contents",
   "toc_cell": false,
   "toc_position": {},
   "toc_section_display": true,
   "toc_window_display": false
  }
 },
 "nbformat": 4,
 "nbformat_minor": 5
}
