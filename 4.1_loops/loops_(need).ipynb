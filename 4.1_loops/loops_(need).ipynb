{
 "cells": [
  {
   "attachments": {},
   "cell_type": "markdown",
   "id": "123456",
   "metadata": {},
   "source": [
    "<div style=\"text-align:left;font-size:2em\"><span style=\"font-weight:bolder;font-size:1.25em\">SP2273 | Learning Portfolio</span><br><br><span style=\"font-weight:bold;color:darkred\">Loops (Need)</span></div>"
   ]
  },
  {
   "attachments": {},
   "cell_type": "markdown",
   "id": "123456",
   "metadata": {},
   "source": [
    "# What to expect in this chapter"
   ]
  },
  {
   "cell_type": "code",
   "execution_count": null,
   "id": "aa978984",
   "metadata": {},
   "outputs": [],
   "source": [
    "# essence = repeating things in python \n",
    "# python offers two mechanisms for looping: 'for' statement (more used) and 'while' statement "
   ]
  },
  {
   "attachments": {},
   "cell_type": "markdown",
   "id": "123456",
   "metadata": {},
   "source": [
    "# 1 The for iterator"
   ]
  },
  {
   "cell_type": "code",
   "execution_count": 2,
   "id": "5c9bb7b8",
   "metadata": {},
   "outputs": [],
   "source": [
    "# assume goal is to print a message corresponding to each fruit in the list: \n",
    "fruit_types = [\"apple\", \"pear\", \"blueberry\"]"
   ]
  },
  {
   "cell_type": "code",
   "execution_count": null,
   "id": "f4eedd71",
   "metadata": {},
   "outputs": [
    {
     "name": "stdout",
     "output_type": "stream",
     "text": [
      "apple is good.\n",
      "pear is good.\n",
      "blueberry is good.\n"
     ]
    }
   ],
   "source": [
    "# poor way of achieving goal: \n",
    "fruit=fruit_types[0]\n",
    "print(f\"{fruit} is good.\")             \n",
    "\n",
    "fruit=fruit_types[1]\n",
    "print(f\"{fruit} is good.\")\n",
    "\n",
    "fruit=fruit_types[2]\n",
    "print(f\"{fruit} is good.\")\n",
    "\n",
    "# not viable is there are many items to list \n",
    "# if changes have to be made, they have to be made as many times as the number of items you have.\n",
    "# error prone "
   ]
  },
  {
   "attachments": {},
   "cell_type": "markdown",
   "id": "123456",
   "metadata": {},
   "source": [
    "## 1.1 for with a list"
   ]
  },
  {
   "cell_type": "code",
   "execution_count": 5,
   "id": "671590bc",
   "metadata": {},
   "outputs": [
    {
     "name": "stdout",
     "output_type": "stream",
     "text": [
      "apple is a great fruit.\n",
      "pear is a great fruit.\n",
      "blueberry is a great fruit.\n"
     ]
    }
   ],
   "source": [
    "for fruit in fruit_types:\n",
    "    print(f\"{fruit} is a great fruit.\")"
   ]
  },
  {
   "cell_type": "code",
   "execution_count": 6,
   "id": "15ce8c0f",
   "metadata": {},
   "outputs": [],
   "source": [
    "# for loop only accepts one list \n"
   ]
  },
  {
   "attachments": {},
   "cell_type": "markdown",
   "id": "123456",
   "metadata": {},
   "source": [
    "## 1.2 for with enumerate"
   ]
  },
  {
   "cell_type": "code",
   "execution_count": 7,
   "id": "4fdfe059",
   "metadata": {},
   "outputs": [],
   "source": [
    "super_names = [\"black widow\", \"iron man\", \"doctor strange\"]\n",
    "real_names = [\"natasha romanoff\", \"tony stark\", \"stephen strange\"]"
   ]
  },
  {
   "cell_type": "code",
   "execution_count": null,
   "id": "9a9d005b",
   "metadata": {},
   "outputs": [
    {
     "name": "stdout",
     "output_type": "stream",
     "text": [
      "0: natasha romanoff is a marvel superhero\n",
      "1: tony stark is a marvel superhero\n",
      "2: stephen strange is a marvel superhero\n"
     ]
    }
   ],
   "source": [
    "# as for loop only accepts one list, use enumerate() to access data in both lists above. \n",
    "for count, name in enumerate(real_names):\n",
    "    print(f'{count}: {name} is a marvel superhero')"
   ]
  },
  {
   "cell_type": "code",
   "execution_count": 12,
   "id": "1573a8c9",
   "metadata": {},
   "outputs": [
    {
     "name": "stdout",
     "output_type": "stream",
     "text": [
      "0: natasha romanoff is a marvel superhero\n",
      "1: tony stark is a marvel superhero\n",
      "2: stephen strange is a marvel superhero\n"
     ]
    }
   ],
   "source": [
    "for index, name in enumerate(real_names):\n",
    "    print(f'{index}: {name} is a marvel superhero')"
   ]
  },
  {
   "cell_type": "code",
   "execution_count": 13,
   "id": "c9c5cb70",
   "metadata": {},
   "outputs": [],
   "source": [
    "# shorter code to pair element with an index in the output \n",
    "# can make index start from other numbers than 0\n",
    "# enumerate = gives you (index, value) in each loop, so you don’t need to manage counters yourself.\n",
    "# if the 'index' or 'count' isn't included, python only has 1 variable, hence will return tuple. "
   ]
  },
  {
   "cell_type": "code",
   "execution_count": 18,
   "id": "9c0924e9",
   "metadata": {},
   "outputs": [
    {
     "name": "stdout",
     "output_type": "stream",
     "text": [
      "natasha romanoff is black widow!\n",
      "tony stark is iron man!\n",
      "stephen strange is doctor strange!\n"
     ]
    }
   ],
   "source": [
    "for index, name in enumerate(real_names):\n",
    "    superhero_name = super_names[index]\n",
    "    print(f'{name} is {superhero_name}!')"
   ]
  },
  {
   "cell_type": "code",
   "execution_count": 16,
   "id": "abfd0683",
   "metadata": {},
   "outputs": [],
   "source": [
    "# real names = set to be the index here (kinda..?)"
   ]
  },
  {
   "attachments": {},
   "cell_type": "markdown",
   "id": "123456",
   "metadata": {},
   "source": [
    "## 1.3 for with range"
   ]
  },
  {
   "attachments": {},
   "cell_type": "markdown",
   "id": "123456",
   "metadata": {},
   "source": [
    "# 2 while"
   ]
  }
 ],
 "metadata": {
  "kernelspec": {
   "display_name": "base",
   "language": "python",
   "name": "python3"
  },
  "language_info": {
   "codemirror_mode": {
    "name": "ipython",
    "version": 3
   },
   "file_extension": ".py",
   "mimetype": "text/x-python",
   "name": "python",
   "nbconvert_exporter": "python",
   "pygments_lexer": "ipython3",
   "version": "3.13.5"
  },
  "toc": {
   "base_numbering": 1,
   "nav_menu": {},
   "number_sections": true,
   "sideBar": true,
   "skip_h1_title": false,
   "title_cell": "Table of Contents",
   "title_sidebar": "Contents",
   "toc_cell": false,
   "toc_position": {},
   "toc_section_display": true,
   "toc_window_display": false
  }
 },
 "nbformat": 4,
 "nbformat_minor": 5
}
