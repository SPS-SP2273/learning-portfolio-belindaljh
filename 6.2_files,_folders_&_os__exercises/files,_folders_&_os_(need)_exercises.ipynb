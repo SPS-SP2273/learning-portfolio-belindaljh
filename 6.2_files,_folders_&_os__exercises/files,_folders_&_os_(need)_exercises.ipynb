{
 "cells": [
  {
   "attachments": {},
   "cell_type": "markdown",
   "id": "123456",
   "metadata": {},
   "source": [
    "<div style=\"text-align:left;font-size:2em\"><span style=\"font-weight:bolder;font-size:1.25em\">SP2273 | Learning Portfolio</span><br><br><span style=\"font-weight:bold;color:darkred\">Files, Folders & OS (Need) Exercises</span></div>"
   ]
  },
  {
   "cell_type": "markdown",
   "id": "218b2506",
   "metadata": {},
   "source": [
    "## Task 1"
   ]
  },
  {
   "cell_type": "code",
   "execution_count": 13,
   "id": "4c56e8f2",
   "metadata": {},
   "outputs": [
    {
     "name": "stdout",
     "output_type": "stream",
     "text": [
      "10-08-singapore.txt\n"
     ]
    }
   ],
   "source": [
    "dictionary = {\n",
    "'jan': '01', 'feb': '02', 'mar': '03',\n",
    "'apr': '04', 'may': '05', 'jun': '06',\n",
    "'jul': '07', 'aug': '08', 'sep': '09',\n",
    "'oct': '10', 'nov': '11', 'dec': '12'\n",
    "}\n",
    "\n",
    "filename = 'oct-08_singapore.txt'\n",
    "month = filename.split('-')[0]\n",
    "day_country = filename.split('-')[1]\n",
    "dictionary[month]\n",
    "new_month = dictionary[month]\n",
    "\n",
    "day = day_country.split('_')[0]\n",
    "country = day_country.split('_')[1]\n",
    "\n",
    "print(f'{new_month}-{day}-{country}')\n",
    "\n",
    "\n",
    "\n",
    "\n"
   ]
  },
  {
   "cell_type": "markdown",
   "id": "15c16be7",
   "metadata": {},
   "source": [
    "## Task 2"
   ]
  },
  {
   "cell_type": "code",
   "execution_count": 23,
   "id": "8f818380",
   "metadata": {},
   "outputs": [
    {
     "name": "stdout",
     "output_type": "stream",
     "text": [
      "10-08-singapore.txt\n"
     ]
    }
   ],
   "source": [
    "def rename_my_file(old_file_name): \n",
    "    filename = old_file_name\n",
    "    month = filename.split('-')[0]\n",
    "    day_country = filename.split('-')[1]\n",
    "    new_month = dictionary[month]\n",
    "\n",
    "    day = day_country.split('_')[0]\n",
    "    country = day_country.split('_')[1]\n",
    "    return   f'{new_month}-{day}-{country}'\n",
    "\n",
    "\n",
    "print(rename_my_file('oct-08_singapore.txt'))\n"
   ]
  },
  {
   "cell_type": "markdown",
   "id": "8e1fe129",
   "metadata": {},
   "source": [
    "## Task 3"
   ]
  },
  {
   "cell_type": "code",
   "execution_count": 25,
   "id": "832691ca",
   "metadata": {},
   "outputs": [
    {
     "name": "stdout",
     "output_type": "stream",
     "text": [
      "oct-08_singapore.txt---->10-08-singapore.txt\n",
      "jul-10_cairo.txt---->07-10-cairo.txt\n",
      "may-15_dhaka.txt---->05-15-dhaka.txt\n",
      "may-13_cairo.txt---->05-13-cairo.txt\n",
      "oct-21_cairo.txt---->10-21-cairo.txt\n",
      "jan-10_singapore.txt---->01-10-singapore.txt\n",
      "jun-20_tokyo.txt---->06-20-tokyo.txt\n",
      "aug-06_jakarta.txt---->08-06-jakarta.txt\n",
      "dec-21_karachi.txt---->12-21-karachi.txt\n",
      "jan-01_tokyo.txt---->01-01-tokyo.txt\n"
     ]
    }
   ],
   "source": [
    "list = ['oct-08_singapore.txt', 'jul-10_cairo.txt', 'may-15_dhaka.txt',\n",
    " 'may-13_cairo.txt', 'oct-21_cairo.txt', 'jan-10_singapore.txt',\n",
    " 'jun-20_tokyo.txt', 'aug-06_jakarta.txt', 'dec-21_karachi.txt',\n",
    " 'jan-01_tokyo.txt']\n",
    "\n",
    "for files in list: \n",
    "    new_file_name = rename_my_file(files)\n",
    "    print(f'{files}---->{new_file_name}')\n"
   ]
  },
  {
   "cell_type": "markdown",
   "id": "c7c10a7c",
   "metadata": {},
   "source": [
    "## Task 4"
   ]
  },
  {
   "cell_type": "code",
   "execution_count": 1,
   "id": "3fcfd512",
   "metadata": {},
   "outputs": [],
   "source": [
    "import os\n",
    "import glob\n",
    "import shutil"
   ]
  },
  {
   "cell_type": "code",
   "execution_count": null,
   "id": "fc808305",
   "metadata": {},
   "outputs": [],
   "source": [
    "def rename_my_file(old_file_name): \n",
    "    try:                                            # try block will only run if the file name is in the format given\n",
    "        filename = old_file_name\n",
    "        month = filename.split('-')[0]\n",
    "        day_country = filename.split('-')[1]\n",
    "        new_month = dictionary[month]\n",
    "\n",
    "        day = day_country.split('_')[0]\n",
    "        country = day_country.split('_')[1]\n",
    "        return   f'{new_month}-{day}-{country}'\n",
    "    except:\n",
    "        return old_file_name\n",
    "\n",
    "file_list = glob.glob('os-collaboration-exercise-data/**/*.txt', recursive=True)\n",
    "for files in file_list:\n",
    "    old_file = files.split('\\\\')[-1]\n",
    "    new_file = rename_my_file(old_file)\n",
    "    path = os.path.join('os-collaboration-exercise-data',new_file)\n",
    "    os.rename(files,path)"
   ]
  },
  {
   "cell_type": "markdown",
   "id": "884977f4",
   "metadata": {},
   "source": [
    "## Task 5"
   ]
  },
  {
   "cell_type": "code",
   "execution_count": null,
   "id": "b5f537a1",
   "metadata": {},
   "outputs": [
    {
     "name": "stdout",
     "output_type": "stream",
     "text": [
      "Creating os-collaboration-exercise-data\\Cairo\n",
      "Creating os-collaboration-exercise-data\\Dhaka\n",
      "Creating os-collaboration-exercise-data\\Jakarta\n",
      "Creating os-collaboration-exercise-data\\Karachi\n",
      "Creating os-collaboration-exercise-data\\Manila\n",
      "Creating os-collaboration-exercise-data\\Melbourne\n",
      "Creating os-collaboration-exercise-data\\Osaka\n",
      "Creating os-collaboration-exercise-data\\Shanghai\n",
      "Creating os-collaboration-exercise-data\\Singapore\n",
      "Creating os-collaboration-exercise-data\\Tokyo\n"
     ]
    }
   ],
   "source": [
    "cities_list = ['Cairo', 'Dhaka', 'Jakarta', 'Karachi', 'Manila', 'Melbourne', 'Osaka', 'Shanghai', 'Singapore', 'Tokyo']\n",
    "for city in cities_list:\n",
    "    path = os.path.join('os-collaboration-exercise-data',city)\n",
    "    print(f'Creating {path}')\n",
    "    os.mkdir(path)          # to create the folder"
   ]
  },
  {
   "cell_type": "markdown",
   "id": "84baeee4",
   "metadata": {},
   "source": [
    "## Task 6"
   ]
  },
  {
   "cell_type": "code",
   "execution_count": null,
   "id": "21f1312f",
   "metadata": {},
   "outputs": [
    {
     "name": "stdout",
     "output_type": "stream",
     "text": [
      "['os-collaboration-exercise-data\\\\01-02-cairo.txt', 'os-collaboration-exercise-data\\\\01-03-cairo.txt', 'os-collaboration-exercise-data\\\\01-04-cairo.txt', 'os-collaboration-exercise-data\\\\01-05-cairo.txt', 'os-collaboration-exercise-data\\\\01-07-cairo.txt', 'os-collaboration-exercise-data\\\\01-08-cairo.txt', 'os-collaboration-exercise-data\\\\01-09-cairo.txt', 'os-collaboration-exercise-data\\\\01-11-cairo.txt', 'os-collaboration-exercise-data\\\\01-12-cairo.txt', 'os-collaboration-exercise-data\\\\01-13-cairo.txt', 'os-collaboration-exercise-data\\\\01-15-cairo.txt', 'os-collaboration-exercise-data\\\\01-16-cairo.txt', 'os-collaboration-exercise-data\\\\01-19-cairo.txt', 'os-collaboration-exercise-data\\\\01-20-cairo.txt', 'os-collaboration-exercise-data\\\\01-21-cairo.txt', 'os-collaboration-exercise-data\\\\01-23-cairo.txt', 'os-collaboration-exercise-data\\\\01-27-cairo.txt', 'os-collaboration-exercise-data\\\\01-30-cairo.txt', 'os-collaboration-exercise-data\\\\02-10-cairo.txt', 'os-collaboration-exercise-data\\\\02-17-cairo.txt', 'os-collaboration-exercise-data\\\\02-20-cairo.txt', 'os-collaboration-exercise-data\\\\02-22-cairo.txt', 'os-collaboration-exercise-data\\\\02-25-cairo.txt', 'os-collaboration-exercise-data\\\\02-26-cairo.txt', 'os-collaboration-exercise-data\\\\03-05-cairo.txt', 'os-collaboration-exercise-data\\\\03-06-cairo.txt', 'os-collaboration-exercise-data\\\\03-12-cairo.txt', 'os-collaboration-exercise-data\\\\03-14-cairo.txt', 'os-collaboration-exercise-data\\\\03-19-cairo.txt', 'os-collaboration-exercise-data\\\\03-24-cairo.txt', 'os-collaboration-exercise-data\\\\04-02-cairo.txt', 'os-collaboration-exercise-data\\\\04-06-cairo.txt', 'os-collaboration-exercise-data\\\\04-07-cairo.txt', 'os-collaboration-exercise-data\\\\04-10-cairo.txt', 'os-collaboration-exercise-data\\\\04-12-cairo.txt', 'os-collaboration-exercise-data\\\\04-13-cairo.txt', 'os-collaboration-exercise-data\\\\04-14-cairo.txt', 'os-collaboration-exercise-data\\\\04-15-cairo.txt', 'os-collaboration-exercise-data\\\\04-17-cairo.txt', 'os-collaboration-exercise-data\\\\04-20-cairo.txt', 'os-collaboration-exercise-data\\\\04-21-cairo.txt', 'os-collaboration-exercise-data\\\\04-22-cairo.txt', 'os-collaboration-exercise-data\\\\04-23-cairo.txt', 'os-collaboration-exercise-data\\\\04-24-cairo.txt', 'os-collaboration-exercise-data\\\\05-01-cairo.txt', 'os-collaboration-exercise-data\\\\05-02-cairo.txt', 'os-collaboration-exercise-data\\\\05-12-cairo.txt', 'os-collaboration-exercise-data\\\\05-17-cairo.txt', 'os-collaboration-exercise-data\\\\05-25-cairo.txt', 'os-collaboration-exercise-data\\\\05-27-cairo.txt', 'os-collaboration-exercise-data\\\\05-29-cairo.txt', 'os-collaboration-exercise-data\\\\05-30-cairo.txt', 'os-collaboration-exercise-data\\\\06-28-cairo.txt', 'os-collaboration-exercise-data\\\\07-04-cairo.txt', 'os-collaboration-exercise-data\\\\07-08-cairo.txt', 'os-collaboration-exercise-data\\\\07-10-cairo.txt', 'os-collaboration-exercise-data\\\\07-13-cairo.txt', 'os-collaboration-exercise-data\\\\07-14-cairo.txt', 'os-collaboration-exercise-data\\\\07-15-cairo.txt', 'os-collaboration-exercise-data\\\\07-16-cairo.txt', 'os-collaboration-exercise-data\\\\07-17-cairo.txt', 'os-collaboration-exercise-data\\\\07-19-cairo.txt', 'os-collaboration-exercise-data\\\\07-24-cairo.txt', 'os-collaboration-exercise-data\\\\07-26-cairo.txt', 'os-collaboration-exercise-data\\\\07-27-cairo.txt', 'os-collaboration-exercise-data\\\\07-29-cairo.txt', 'os-collaboration-exercise-data\\\\07-30-cairo.txt', 'os-collaboration-exercise-data\\\\08-01-cairo.txt', 'os-collaboration-exercise-data\\\\08-03-cairo.txt', 'os-collaboration-exercise-data\\\\08-04-cairo.txt', 'os-collaboration-exercise-data\\\\08-05-cairo.txt', 'os-collaboration-exercise-data\\\\08-07-cairo.txt', 'os-collaboration-exercise-data\\\\08-08-cairo.txt', 'os-collaboration-exercise-data\\\\08-10-cairo.txt', 'os-collaboration-exercise-data\\\\08-12-cairo.txt', 'os-collaboration-exercise-data\\\\08-14-cairo.txt', 'os-collaboration-exercise-data\\\\08-18-cairo.txt', 'os-collaboration-exercise-data\\\\08-19-cairo.txt', 'os-collaboration-exercise-data\\\\08-20-cairo.txt', 'os-collaboration-exercise-data\\\\08-24-cairo.txt', 'os-collaboration-exercise-data\\\\08-25-cairo.txt', 'os-collaboration-exercise-data\\\\08-26-cairo.txt', 'os-collaboration-exercise-data\\\\09-02-cairo.txt', 'os-collaboration-exercise-data\\\\09-04-cairo.txt', 'os-collaboration-exercise-data\\\\09-05-cairo.txt', 'os-collaboration-exercise-data\\\\09-07-cairo.txt', 'os-collaboration-exercise-data\\\\09-08-cairo.txt', 'os-collaboration-exercise-data\\\\09-11-cairo.txt', 'os-collaboration-exercise-data\\\\09-12-cairo.txt', 'os-collaboration-exercise-data\\\\09-13-cairo.txt', 'os-collaboration-exercise-data\\\\09-16-cairo.txt', 'os-collaboration-exercise-data\\\\09-18-cairo.txt', 'os-collaboration-exercise-data\\\\09-20-cairo.txt', 'os-collaboration-exercise-data\\\\09-22-cairo.txt', 'os-collaboration-exercise-data\\\\09-23-cairo.txt', 'os-collaboration-exercise-data\\\\09-24-cairo.txt', 'os-collaboration-exercise-data\\\\09-25-cairo.txt', 'os-collaboration-exercise-data\\\\09-26-cairo.txt', 'os-collaboration-exercise-data\\\\09-28-cairo.txt', 'os-collaboration-exercise-data\\\\10-23-cairo.txt', 'os-collaboration-exercise-data\\\\11-03-cairo.txt', 'os-collaboration-exercise-data\\\\11-04-cairo.txt', 'os-collaboration-exercise-data\\\\11-05-cairo.txt', 'os-collaboration-exercise-data\\\\11-10-cairo.txt', 'os-collaboration-exercise-data\\\\11-14-cairo.txt', 'os-collaboration-exercise-data\\\\11-17-cairo.txt', 'os-collaboration-exercise-data\\\\11-19-cairo.txt', 'os-collaboration-exercise-data\\\\11-21-cairo.txt', 'os-collaboration-exercise-data\\\\11-29-cairo.txt', 'os-collaboration-exercise-data\\\\12-01-cairo.txt', 'os-collaboration-exercise-data\\\\12-03-cairo.txt', 'os-collaboration-exercise-data\\\\12-04-cairo.txt', 'os-collaboration-exercise-data\\\\12-05-cairo.txt', 'os-collaboration-exercise-data\\\\12-07-cairo.txt', 'os-collaboration-exercise-data\\\\12-09-cairo.txt', 'os-collaboration-exercise-data\\\\12-10-cairo.txt', 'os-collaboration-exercise-data\\\\12-13-cairo.txt', 'os-collaboration-exercise-data\\\\12-17-cairo.txt', 'os-collaboration-exercise-data\\\\12-18-cairo.txt', 'os-collaboration-exercise-data\\\\12-19-cairo.txt', 'os-collaboration-exercise-data\\\\12-21-cairo.txt', 'os-collaboration-exercise-data\\\\12-22-cairo.txt', 'os-collaboration-exercise-data\\\\12-23-cairo.txt', 'os-collaboration-exercise-data\\\\12-26-cairo.txt', 'os-collaboration-exercise-data\\\\12-27-cairo.txt', 'os-collaboration-exercise-data\\\\12-29-cairo.txt', 'os-collaboration-exercise-data\\\\apr-02_cairo.jpg', 'os-collaboration-exercise-data\\\\apr-06_cairo.png', 'os-collaboration-exercise-data\\\\apr-07_cairo.png', 'os-collaboration-exercise-data\\\\apr-10_cairo.png', 'os-collaboration-exercise-data\\\\apr-12_cairo.pdf', 'os-collaboration-exercise-data\\\\apr-12_cairo.png', 'os-collaboration-exercise-data\\\\apr-13_cairo.png', 'os-collaboration-exercise-data\\\\apr-14_cairo.jpg', 'os-collaboration-exercise-data\\\\apr-14_cairo.png', 'os-collaboration-exercise-data\\\\apr-15_cairo.jpg', 'os-collaboration-exercise-data\\\\apr-17_cairo.jpg', 'os-collaboration-exercise-data\\\\apr-17_cairo.pdf', 'os-collaboration-exercise-data\\\\apr-17_cairo.png', 'os-collaboration-exercise-data\\\\apr-20_cairo.jpg', 'os-collaboration-exercise-data\\\\apr-21_cairo.pdf', 'os-collaboration-exercise-data\\\\apr-22_cairo.pdf', 'os-collaboration-exercise-data\\\\apr-23_cairo.jpg', 'os-collaboration-exercise-data\\\\apr-24_cairo.jpg', 'os-collaboration-exercise-data\\\\aug-01_cairo.jpg', 'os-collaboration-exercise-data\\\\aug-01_cairo.png', 'os-collaboration-exercise-data\\\\aug-03_cairo.png', 'os-collaboration-exercise-data\\\\aug-04_cairo.jpg', 'os-collaboration-exercise-data\\\\aug-04_cairo.pdf', 'os-collaboration-exercise-data\\\\aug-05_cairo.pdf', 'os-collaboration-exercise-data\\\\aug-07_cairo.png', 'os-collaboration-exercise-data\\\\aug-08_cairo.jpg', 'os-collaboration-exercise-data\\\\aug-10_cairo.png', 'os-collaboration-exercise-data\\\\aug-12_cairo.jpg', 'os-collaboration-exercise-data\\\\aug-14_cairo.jpg', 'os-collaboration-exercise-data\\\\aug-14_cairo.png', 'os-collaboration-exercise-data\\\\aug-18_cairo.jpg', 'os-collaboration-exercise-data\\\\aug-19_cairo.jpg', 'os-collaboration-exercise-data\\\\aug-20_cairo.png', 'os-collaboration-exercise-data\\\\aug-24_cairo.pdf', 'os-collaboration-exercise-data\\\\aug-25_cairo.png', 'os-collaboration-exercise-data\\\\aug-26_cairo.png', 'os-collaboration-exercise-data\\\\dec-01_cairo.jpg', 'os-collaboration-exercise-data\\\\dec-03_cairo.jpg', 'os-collaboration-exercise-data\\\\dec-03_cairo.png', 'os-collaboration-exercise-data\\\\dec-04_cairo.jpg', 'os-collaboration-exercise-data\\\\dec-04_cairo.pdf', 'os-collaboration-exercise-data\\\\dec-04_cairo.png', 'os-collaboration-exercise-data\\\\dec-05_cairo.png', 'os-collaboration-exercise-data\\\\dec-07_cairo.jpg', 'os-collaboration-exercise-data\\\\dec-09_cairo.png', 'os-collaboration-exercise-data\\\\dec-10_cairo.jpg', 'os-collaboration-exercise-data\\\\dec-10_cairo.pdf', 'os-collaboration-exercise-data\\\\dec-13_cairo.pdf', 'os-collaboration-exercise-data\\\\dec-17_cairo.png', 'os-collaboration-exercise-data\\\\dec-18_cairo.jpg', 'os-collaboration-exercise-data\\\\dec-19_cairo.pdf', 'os-collaboration-exercise-data\\\\dec-21_cairo.png', 'os-collaboration-exercise-data\\\\dec-22_cairo.jpg', 'os-collaboration-exercise-data\\\\dec-23_cairo.pdf', 'os-collaboration-exercise-data\\\\dec-26_cairo.pdf', 'os-collaboration-exercise-data\\\\dec-27_cairo.png', 'os-collaboration-exercise-data\\\\dec-29_cairo.jpg', 'os-collaboration-exercise-data\\\\dec-29_cairo.png', 'os-collaboration-exercise-data\\\\feb-10_cairo.jpg', 'os-collaboration-exercise-data\\\\feb-10_cairo.pdf', 'os-collaboration-exercise-data\\\\feb-17_cairo.jpg', 'os-collaboration-exercise-data\\\\feb-20_cairo.png', 'os-collaboration-exercise-data\\\\feb-22_cairo.pdf', 'os-collaboration-exercise-data\\\\feb-22_cairo.png', 'os-collaboration-exercise-data\\\\feb-25_cairo.jpg', 'os-collaboration-exercise-data\\\\feb-25_cairo.pdf', 'os-collaboration-exercise-data\\\\feb-26_cairo.png', 'os-collaboration-exercise-data\\\\jan-02_cairo.pdf', 'os-collaboration-exercise-data\\\\jan-03_cairo.pdf', 'os-collaboration-exercise-data\\\\jan-04_cairo.jpg', 'os-collaboration-exercise-data\\\\jan-05_cairo.jpg', 'os-collaboration-exercise-data\\\\jan-07_cairo.jpg', 'os-collaboration-exercise-data\\\\jan-08_cairo.png', 'os-collaboration-exercise-data\\\\jan-09_cairo.jpg', 'os-collaboration-exercise-data\\\\jan-11_cairo.png', 'os-collaboration-exercise-data\\\\jan-12_cairo.pdf', 'os-collaboration-exercise-data\\\\jan-13_cairo.png', 'os-collaboration-exercise-data\\\\jan-15_cairo.jpg', 'os-collaboration-exercise-data\\\\jan-15_cairo.png', 'os-collaboration-exercise-data\\\\jan-16_cairo.png', 'os-collaboration-exercise-data\\\\jan-19_cairo.pdf', 'os-collaboration-exercise-data\\\\jan-20_cairo.pdf', 'os-collaboration-exercise-data\\\\jan-21_cairo.jpg', 'os-collaboration-exercise-data\\\\jan-23_cairo.png', 'os-collaboration-exercise-data\\\\jan-27_cairo.jpg', 'os-collaboration-exercise-data\\\\jan-30_cairo.pdf', 'os-collaboration-exercise-data\\\\jul-04_cairo.jpg', 'os-collaboration-exercise-data\\\\jul-08_cairo.png', 'os-collaboration-exercise-data\\\\jul-10_cairo.png', 'os-collaboration-exercise-data\\\\jul-13_cairo.png', 'os-collaboration-exercise-data\\\\jul-14_cairo.jpg', 'os-collaboration-exercise-data\\\\jul-15_cairo.pdf', 'os-collaboration-exercise-data\\\\jul-16_cairo.png', 'os-collaboration-exercise-data\\\\jul-17_cairo.pdf', 'os-collaboration-exercise-data\\\\jul-19_cairo.jpg', 'os-collaboration-exercise-data\\\\jul-24_cairo.pdf', 'os-collaboration-exercise-data\\\\jul-26_cairo.png', 'os-collaboration-exercise-data\\\\jul-27_cairo.png', 'os-collaboration-exercise-data\\\\jul-29_cairo.jpg', 'os-collaboration-exercise-data\\\\jul-30_cairo.png', 'os-collaboration-exercise-data\\\\jun-28_cairo.pdf', 'os-collaboration-exercise-data\\\\mar-05_cairo.pdf', 'os-collaboration-exercise-data\\\\mar-05_cairo.png', 'os-collaboration-exercise-data\\\\mar-06_cairo.pdf', 'os-collaboration-exercise-data\\\\mar-12_cairo.jpg', 'os-collaboration-exercise-data\\\\mar-14_cairo.pdf', 'os-collaboration-exercise-data\\\\mar-19_cairo.jpg', 'os-collaboration-exercise-data\\\\mar-24_cairo.pdf', 'os-collaboration-exercise-data\\\\may-01_cairo.png', 'os-collaboration-exercise-data\\\\may-02_cairo.png', 'os-collaboration-exercise-data\\\\may-12_cairo.png', 'os-collaboration-exercise-data\\\\may-17_cairo.png', 'os-collaboration-exercise-data\\\\may-25_cairo.png', 'os-collaboration-exercise-data\\\\may-27_cairo.pdf', 'os-collaboration-exercise-data\\\\may-29_cairo.pdf', 'os-collaboration-exercise-data\\\\may-30_cairo.jpg', 'os-collaboration-exercise-data\\\\may-30_cairo.png', 'os-collaboration-exercise-data\\\\nov-03_cairo.png', 'os-collaboration-exercise-data\\\\nov-04_cairo.pdf', 'os-collaboration-exercise-data\\\\nov-05_cairo.jpg', 'os-collaboration-exercise-data\\\\nov-05_cairo.png', 'os-collaboration-exercise-data\\\\nov-10_cairo.pdf', 'os-collaboration-exercise-data\\\\nov-14_cairo.pdf', 'os-collaboration-exercise-data\\\\nov-17_cairo.pdf', 'os-collaboration-exercise-data\\\\nov-19_cairo.jpg', 'os-collaboration-exercise-data\\\\nov-21_cairo.pdf', 'os-collaboration-exercise-data\\\\nov-29_cairo.pdf', 'os-collaboration-exercise-data\\\\oct-23_cairo.jpg', 'os-collaboration-exercise-data\\\\sep-02_cairo.png', 'os-collaboration-exercise-data\\\\sep-04_cairo.pdf', 'os-collaboration-exercise-data\\\\sep-05_cairo.pdf', 'os-collaboration-exercise-data\\\\sep-07_cairo.jpg', 'os-collaboration-exercise-data\\\\sep-08_cairo.pdf', 'os-collaboration-exercise-data\\\\sep-11_cairo.png', 'os-collaboration-exercise-data\\\\sep-12_cairo.png', 'os-collaboration-exercise-data\\\\sep-13_cairo.jpg', 'os-collaboration-exercise-data\\\\sep-13_cairo.png', 'os-collaboration-exercise-data\\\\sep-16_cairo.png', 'os-collaboration-exercise-data\\\\sep-18_cairo.pdf', 'os-collaboration-exercise-data\\\\sep-20_cairo.jpg', 'os-collaboration-exercise-data\\\\sep-22_cairo.pdf', 'os-collaboration-exercise-data\\\\sep-23_cairo.pdf', 'os-collaboration-exercise-data\\\\sep-24_cairo.pdf', 'os-collaboration-exercise-data\\\\sep-25_cairo.jpg', 'os-collaboration-exercise-data\\\\sep-25_cairo.pdf', 'os-collaboration-exercise-data\\\\sep-26_cairo.pdf', 'os-collaboration-exercise-data\\\\sep-28_cairo.jpg', 'os-collaboration-exercise-data\\\\sep-28_cairo.pdf', 'os-collaboration-exercise-data\\\\sep-28_cairo.png']\n"
     ]
    }
   ],
   "source": [
    "list =glob.glob('os-collaboration-exercise-data/*cairo.*', recursive=True)\n",
    "print(list)\n",
    "for newfiles in list: \n",
    "    path = os.path.join('os-collaboration-exercise-data','Cairo')\n",
    "    shutil.copy(newfiles,path)"
   ]
  },
  {
   "cell_type": "markdown",
   "id": "615493f4",
   "metadata": {},
   "source": [
    "## Task 7"
   ]
  },
  {
   "cell_type": "code",
   "execution_count": 3,
   "id": "0ad53e56",
   "metadata": {},
   "outputs": [],
   "source": [
    "cities_list = ['Cairo', 'Dhaka', 'Jakarta', 'Karachi', 'Manila', 'Melbourne', 'Osaka', 'Shanghai', 'Singapore', 'Tokyo']\n",
    "\n",
    "for city in cities_list:\n",
    "    list = glob.glob(f'os-collaboration-exercise-data/*{city}.*', recursive=True)\n",
    "    for city_file in list:\n",
    "        sep = os.path.sep\n",
    "        file_name = city_file.split(sep)[-1]\n",
    "        path = os.path.join('os-collaboration-exercise-data',city,file_name)\n",
    "        if os.path.exists(path):\n",
    "            continue \n",
    "        else:\n",
    "            new_path = os.path.join('os-collaboration-exercise-data',city)\n",
    "            shutil.move(city_file,new_path)"
   ]
  },
  {
   "cell_type": "code",
   "execution_count": null,
   "id": "4e8e9acc",
   "metadata": {},
   "outputs": [],
   "source": []
  }
 ],
 "metadata": {
  "kernelspec": {
   "display_name": "base",
   "language": "python",
   "name": "python3"
  },
  "language_info": {
   "codemirror_mode": {
    "name": "ipython",
    "version": 3
   },
   "file_extension": ".py",
   "mimetype": "text/x-python",
   "name": "python",
   "nbconvert_exporter": "python",
   "pygments_lexer": "ipython3",
   "version": "3.13.5"
  },
  "toc": {
   "base_numbering": 1,
   "nav_menu": {},
   "number_sections": true,
   "sideBar": true,
   "skip_h1_title": false,
   "title_cell": "Table of Contents",
   "title_sidebar": "Contents",
   "toc_cell": false,
   "toc_position": {},
   "toc_section_display": true,
   "toc_window_display": false
  }
 },
 "nbformat": 4,
 "nbformat_minor": 5
}
