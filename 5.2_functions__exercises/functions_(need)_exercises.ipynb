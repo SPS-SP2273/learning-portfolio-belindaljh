{
 "cells": [
  {
   "attachments": {},
   "cell_type": "markdown",
   "id": "123456",
   "metadata": {},
   "source": [
    "<div style=\"text-align:left;font-size:2em\"><span style=\"font-weight:bolder;font-size:1.25em\">SP2273 | Learning Portfolio</span><br><br><span style=\"font-weight:bold;color:darkred\">Functions (Need) Exercises</span></div>"
   ]
  },
  {
   "cell_type": "markdown",
   "id": "c6916dff",
   "metadata": {},
   "source": [
    "## Exercise 1 (explain why)"
   ]
  },
  {
   "cell_type": "code",
   "execution_count": 13,
   "id": "4a447c84",
   "metadata": {},
   "outputs": [
    {
     "name": "stdout",
     "output_type": "stream",
     "text": [
      "Hello John!\n",
      "Hello Batman! So, nice to meet you!\n"
     ]
    }
   ],
   "source": [
    "def greeting(name):\n",
    "    if name == 'Batman':\n",
    "        return 'Hello Batman! So, nice to meet you!'\n",
    "    return f'Hello {name}!'\n",
    "print(greeting('John'))\n",
    "print(greeting('Batman'))"
   ]
  },
  {
   "cell_type": "markdown",
   "id": "277c1cdf",
   "metadata": {},
   "source": [
    "I'm not entirely sure, but does this have something to do with the second return? The second return is not in the same code block as the 'if', so python will first interpret whether the name is batman. If not, it will continue to the next line of code, that is to produce whatever input was written. greeting() is already a defined function anyway.  "
   ]
  },
  {
   "cell_type": "markdown",
   "id": "912b6796",
   "metadata": {},
   "source": [
    "## Exercise 2 (BMI)"
   ]
  },
  {
   "cell_type": "code",
   "execution_count": 6,
   "id": "b221410c",
   "metadata": {},
   "outputs": [
    {
     "name": "stdout",
     "output_type": "stream",
     "text": [
      "BMI category: Normal Weight\n"
     ]
    }
   ],
   "source": [
    "def calculate_bmi(weight, height): \n",
    "    BMI = weight / (height ** 2)\n",
    "    if BMI < 18.5 :\n",
    "        return 'Underweight'\n",
    "    elif 18.5 <= BMI <= 24.9 :\n",
    "        return 'Normal Weight'\n",
    "    elif 25 <= BMI <= 29.9 :\n",
    "        return 'Overweight'\n",
    "    elif 30 < BMI :\n",
    "        return 'Obese'\n",
    "\n",
    "print('BMI category:', calculate_bmi(53,1.6)) \n",
    "\n"
   ]
  },
  {
   "cell_type": "markdown",
   "id": "af5e428e",
   "metadata": {},
   "source": [
    "## Exercise 3 (Factorials)\n"
   ]
  },
  {
   "cell_type": "code",
   "execution_count": 13,
   "id": "be1686c1",
   "metadata": {},
   "outputs": [
    {
     "name": "stdout",
     "output_type": "stream",
     "text": [
      "1\n",
      "120\n",
      "Invalid input -- undefined\n"
     ]
    }
   ],
   "source": [
    "def factorial(n):\n",
    "    if n < 0:\n",
    "        return \"Invalid input -- undefined\"\n",
    "    elif n == 0:\n",
    "        return 1\n",
    "    else:\n",
    "        result = 1\n",
    "        for number in range(1, n+1):\n",
    "            result *= number\n",
    "        return result\n",
    "\n",
    "print(factorial(0))\n",
    "print(factorial(5))   \n",
    "print(factorial(-1))  "
   ]
  },
  {
   "cell_type": "code",
   "execution_count": null,
   "id": "4baa7f44",
   "metadata": {},
   "outputs": [],
   "source": []
  },
  {
   "cell_type": "code",
   "execution_count": null,
   "id": "c111cb03",
   "metadata": {},
   "outputs": [],
   "source": []
  }
 ],
 "metadata": {
  "kernelspec": {
   "display_name": "base",
   "language": "python",
   "name": "python3"
  },
  "language_info": {
   "codemirror_mode": {
    "name": "ipython",
    "version": 3
   },
   "file_extension": ".py",
   "mimetype": "text/x-python",
   "name": "python",
   "nbconvert_exporter": "python",
   "pygments_lexer": "ipython3",
   "version": "3.13.5"
  },
  "toc": {
   "base_numbering": 1,
   "nav_menu": {},
   "number_sections": true,
   "sideBar": true,
   "skip_h1_title": false,
   "title_cell": "Table of Contents",
   "title_sidebar": "Contents",
   "toc_cell": false,
   "toc_position": {},
   "toc_section_display": true,
   "toc_window_display": false
  }
 },
 "nbformat": 4,
 "nbformat_minor": 5
}
