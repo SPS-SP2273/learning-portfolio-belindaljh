{
 "cells": [
  {
   "attachments": {},
   "cell_type": "markdown",
   "id": "123456",
   "metadata": {},
   "source": [
    "<div style=\"text-align:left;font-size:2em\"><span style=\"font-weight:bolder;font-size:1.25em\">SP2273 | Learning Portfolio</span><br><br><span style=\"font-weight:bold;color:darkred\">Functions (Good) Exercises</span></div>"
   ]
  },
  {
   "cell_type": "markdown",
   "id": "568e0482",
   "metadata": {},
   "source": [
    "temp_f = temp_c*(9/5)+32\n",
    "\n",
    "temp_k = temp_c + 273.15 "
   ]
  },
  {
   "cell_type": "markdown",
   "id": "2126a36a",
   "metadata": {},
   "source": [
    "## Exercise 1 (Celsius to Fahrenheit or Kelvin)"
   ]
  },
  {
   "cell_type": "code",
   "execution_count": null,
   "id": "e241d7f6",
   "metadata": {},
   "outputs": [
    {
     "name": "stdout",
     "output_type": "stream",
     "text": [
      "298.15\n",
      "77.0\n"
     ]
    }
   ],
   "source": [
    "def convert_celcius(temperature_celcius, target_scale='Fahrenheit'):    #set default value to Fahrenheit\n",
    "    Fahrenheit = temperature_celcius*(9/5)+32                           #formulas for conversion    \n",
    "    Kelvin = temperature_celcius + 273.15 \n",
    "    if target_scale == 'Kelvin':\n",
    "        return Kelvin \n",
    "    else: \n",
    "        return Fahrenheit\n",
    "\n",
    "print(convert_celcius(25,'Kelvin'))     #target scale specified, will convert to Kelvin\n",
    "print(convert_celcius(25))              #target scale not specified, will return default value aka Fahrenheit"
   ]
  },
  {
   "cell_type": "markdown",
   "id": "e825abed",
   "metadata": {},
   "source": [
    "## Exercise 2 (Fahrenheit to Celsius or Kelvin) "
   ]
  },
  {
   "cell_type": "code",
   "execution_count": 14,
   "id": "2ac6a1a4",
   "metadata": {},
   "outputs": [
    {
     "name": "stdout",
     "output_type": "stream",
     "text": [
      "310.92777777777775\n",
      "37.77777777777778\n"
     ]
    }
   ],
   "source": [
    "def convert_fahrenheit(temperature_fahrenheit, target_scale='Celcius'):\n",
    "    Celcius = (temperature_fahrenheit-32)*(5/9)\n",
    "    Kelvin = (temperature_fahrenheit-32)*(5/9)+273.15\n",
    "    if target_scale == 'Kelvin':\n",
    "        return Kelvin\n",
    "    else:\n",
    "        return Celcius\n",
    "\n",
    "print(convert_fahrenheit(100,'Kelvin'))\n",
    "print(convert_fahrenheit(100))"
   ]
  },
  {
   "cell_type": "markdown",
   "id": "4884a067",
   "metadata": {},
   "source": [
    "## Exercise 3 (General Temperature Conversion) "
   ]
  },
  {
   "cell_type": "code",
   "execution_count": null,
   "id": "475eb3b2",
   "metadata": {},
   "outputs": [
    {
     "name": "stdout",
     "output_type": "stream",
     "text": [
      "37 Celcius Kelvin\n",
      "100 Fahrenheit Celcius\n",
      "25 Kelvin\n"
     ]
    }
   ],
   "source": [
    "def convert_temperature(temperature, source_scale, target_scale):\n",
    "    Kelvin = (temperature_fahrenheit-32)*(5/9)+273.15\n",
    "    if source_scale == 'Celcius':\n",
    "        return convert_celcius\n",
    "    elif source_scale == 'Fahrenheit':\n",
    "        return convert_fahrenheit\n",
    "    else:\n",
    "        return Kelvin\n",
    "\n"
   ]
  },
  {
   "cell_type": "code",
   "execution_count": null,
   "id": "69571fcd",
   "metadata": {},
   "outputs": [],
   "source": []
  }
 ],
 "metadata": {
  "kernelspec": {
   "display_name": "base",
   "language": "python",
   "name": "python3"
  },
  "language_info": {
   "codemirror_mode": {
    "name": "ipython",
    "version": 3
   },
   "file_extension": ".py",
   "mimetype": "text/x-python",
   "name": "python",
   "nbconvert_exporter": "python",
   "pygments_lexer": "ipython3",
   "version": "3.13.5"
  },
  "toc": {
   "base_numbering": 1,
   "nav_menu": {},
   "number_sections": true,
   "sideBar": true,
   "skip_h1_title": false,
   "title_cell": "Table of Contents",
   "title_sidebar": "Contents",
   "toc_cell": false,
   "toc_position": {},
   "toc_section_display": true,
   "toc_window_display": false
  }
 },
 "nbformat": 4,
 "nbformat_minor": 5
}
