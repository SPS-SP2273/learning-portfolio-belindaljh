{
 "cells": [
  {
   "attachments": {},
   "cell_type": "markdown",
   "id": "123456",
   "metadata": {},
   "source": [
    "<div style=\"text-align:left;font-size:2em\"><span style=\"font-weight:bolder;font-size:1.25em\">SP2273 | Learning Portfolio</span><br><br><span style=\"font-weight:bold;color:darkred\">Functions (Good) Exercises</span></div>"
   ]
  },
  {
   "cell_type": "markdown",
   "id": "568e0482",
   "metadata": {},
   "source": [
    "temp_f = temp_c*(9/5)+32\n",
    "\n",
    "temp_k = temp_c + 273.15 "
   ]
  },
  {
   "cell_type": "markdown",
   "id": "2126a36a",
   "metadata": {},
   "source": [
    "## Exercise 1 (Celsius to Fahrenheit or Kelvin)"
   ]
  },
  {
   "cell_type": "code",
   "execution_count": 4,
   "id": "e241d7f6",
   "metadata": {},
   "outputs": [
    {
     "name": "stdout",
     "output_type": "stream",
     "text": [
      "298.15\n",
      "77.0\n"
     ]
    }
   ],
   "source": [
    "def convert_celcius(temperature_celcius, target_scale='Fahrenheit'):    #set default value to Fahrenheit\n",
    "    Fahrenheit = temperature_celcius*(9/5)+32                           #formulas for conversion    \n",
    "    Kelvin = temperature_celcius + 273.15 \n",
    "    if target_scale == 'Kelvin':\n",
    "        return Kelvin \n",
    "    else: \n",
    "        return Fahrenheit\n",
    "\n",
    "print(convert_celcius(25,'Kelvin'))     #target scale specified, will convert to Kelvin\n",
    "print(convert_celcius(25))              #target scale not specified, will return default value aka Fahrenheit"
   ]
  },
  {
   "cell_type": "code",
   "execution_count": 5,
   "id": "b85bbc59",
   "metadata": {},
   "outputs": [
    {
     "name": "stdout",
     "output_type": "stream",
     "text": [
      "298.15\n",
      "77.0\n"
     ]
    },
    {
     "ename": "AssertionError",
     "evalue": "Please enter only kelvin or fahrenheit",
     "output_type": "error",
     "traceback": [
      "\u001b[31m---------------------------------------------------------------------------\u001b[39m",
      "\u001b[31mAssertionError\u001b[39m                            Traceback (most recent call last)",
      "\u001b[36mCell\u001b[39m\u001b[36m \u001b[39m\u001b[32mIn[5]\u001b[39m\u001b[32m, line 13\u001b[39m\n\u001b[32m     11\u001b[39m \u001b[38;5;28mprint\u001b[39m(convert_celcius(\u001b[32m25\u001b[39m,\u001b[33m'\u001b[39m\u001b[33mkelvin\u001b[39m\u001b[33m'\u001b[39m))     \u001b[38;5;66;03m#target scale specified, will convert to Kelvin\u001b[39;00m\n\u001b[32m     12\u001b[39m \u001b[38;5;28mprint\u001b[39m(convert_celcius(\u001b[32m25\u001b[39m))              \u001b[38;5;66;03m#target scale not specified, will return default value aka Fahrenheit\u001b[39;00m\n\u001b[32m---> \u001b[39m\u001b[32m13\u001b[39m \u001b[38;5;28mprint\u001b[39m(\u001b[43mconvert_celcius\u001b[49m\u001b[43m(\u001b[49m\u001b[32;43m25\u001b[39;49m\u001b[43m,\u001b[49m\u001b[43m \u001b[49m\u001b[33;43m'\u001b[39;49m\u001b[33;43mskibidi\u001b[39;49m\u001b[33;43m'\u001b[39;49m\u001b[43m)\u001b[49m)\n",
      "\u001b[36mCell\u001b[39m\u001b[36m \u001b[39m\u001b[32mIn[5]\u001b[39m\u001b[32m, line 3\u001b[39m, in \u001b[36mconvert_celcius\u001b[39m\u001b[34m(temperature_celcius, target_scale)\u001b[39m\n\u001b[32m      2\u001b[39m \u001b[38;5;28;01mdef\u001b[39;00m\u001b[38;5;250m \u001b[39m\u001b[34mconvert_celcius\u001b[39m(temperature_celcius, target_scale=\u001b[33m'\u001b[39m\u001b[33mfahrenheit\u001b[39m\u001b[33m'\u001b[39m):    \u001b[38;5;66;03m#set default value to Fahrenheit               \u001b[39;00m\n\u001b[32m----> \u001b[39m\u001b[32m3\u001b[39m     \u001b[38;5;28;01massert\u001b[39;00m target_scale == \u001b[33m'\u001b[39m\u001b[33mkelvin\u001b[39m\u001b[33m'\u001b[39m \u001b[38;5;129;01mor\u001b[39;00m target_scale == \u001b[33m'\u001b[39m\u001b[33mfahrenheit\u001b[39m\u001b[33m'\u001b[39m, \u001b[33m'\u001b[39m\u001b[33mPlease enter only kelvin or fahrenheit\u001b[39m\u001b[33m'\u001b[39m              \n\u001b[32m      4\u001b[39m     \u001b[38;5;28;01mif\u001b[39;00m target_scale == \u001b[33m'\u001b[39m\u001b[33mkelvin\u001b[39m\u001b[33m'\u001b[39m:\n\u001b[32m      5\u001b[39m         kelvin = temperature_celcius + \u001b[32m273.15\u001b[39m       \u001b[38;5;66;03m# instead calculating the values right at the start, \u001b[39;00m\n",
      "\u001b[31mAssertionError\u001b[39m: Please enter only kelvin or fahrenheit"
     ]
    }
   ],
   "source": [
    "# modified code after review \n",
    "def convert_celcius(temperature_celcius, target_scale='fahrenheit'):    #set default value to Fahrenheit               \n",
    "    assert target_scale == 'kelvin' or target_scale == 'fahrenheit', 'Please enter only kelvin or fahrenheit'              \n",
    "    if target_scale == 'kelvin':\n",
    "        kelvin = temperature_celcius + 273.15       # instead calculating the values right at the start, \n",
    "        return kelvin                               # it is btr to calculate only when necessary\n",
    "    else: \n",
    "        fahrenheit = temperature_celcius*(9/5)+32\n",
    "        return fahrenheit\n",
    "\n",
    "print(convert_celcius(25,'kelvin'))     #target scale specified, will convert to Kelvin\n",
    "print(convert_celcius(25))              #target scale not specified, will return default value aka Fahrenheit\n",
    "print(convert_celcius(25, 'skibidi'))\n"
   ]
  },
  {
   "cell_type": "code",
   "execution_count": 6,
   "id": "87e30f66",
   "metadata": {},
   "outputs": [],
   "source": [
    "# notes\n",
    "    # better to keep variables in full lowercase ('fahrenheit' instead of 'Fahrenheit')\n",
    "    # this is important in collaborative work, as the case of a variable name can signal different representations to others\n",
    "\n",
    "HELLO = 10      #full uppercase: used for constants = value should remain unchanged \n",
    "hello = 10      #full lowercase: used for normal variables \n",
    "HeyYou = 10     #pascal case \n"
   ]
  },
  {
   "cell_type": "markdown",
   "id": "e825abed",
   "metadata": {},
   "source": [
    "## Exercise 2 (Fahrenheit to Celsius or Kelvin) "
   ]
  },
  {
   "cell_type": "code",
   "execution_count": 10,
   "id": "2ac6a1a4",
   "metadata": {},
   "outputs": [
    {
     "name": "stdout",
     "output_type": "stream",
     "text": [
      "310.92777777777775\n",
      "37.77777777777778\n"
     ]
    }
   ],
   "source": [
    "def convert_fahrenheit(temperature_fahrenheit, target_scale='celcius'):\n",
    "    assert target_scale == 'celcius' or target_scale == 'kelvin', 'Please enter only kelvin or celcius'\n",
    "    if target_scale == 'kelvin':\n",
    "        kelvin = (temperature_fahrenheit-32)*(5/9)+273.15\n",
    "        return kelvin\n",
    "    else:\n",
    "        celcius = (temperature_fahrenheit-32)*(5/9)\n",
    "        return celcius\n",
    "\n",
    "print(convert_fahrenheit(100,'kelvin'))\n",
    "print(convert_fahrenheit(100))\n"
   ]
  },
  {
   "cell_type": "code",
   "execution_count": 12,
   "id": "65b428c6",
   "metadata": {},
   "outputs": [
    {
     "ename": "AssertionError",
     "evalue": "Please enter only kelvin or celcius",
     "output_type": "error",
     "traceback": [
      "\u001b[31m---------------------------------------------------------------------------\u001b[39m",
      "\u001b[31mAssertionError\u001b[39m                            Traceback (most recent call last)",
      "\u001b[36mCell\u001b[39m\u001b[36m \u001b[39m\u001b[32mIn[12]\u001b[39m\u001b[32m, line 11\u001b[39m\n\u001b[32m      8\u001b[39m         celcius = (temperature_fahrenheit-\u001b[32m32\u001b[39m)*(\u001b[32m5\u001b[39m/\u001b[32m9\u001b[39m)\n\u001b[32m      9\u001b[39m         \u001b[38;5;28;01mreturn\u001b[39;00m celcius\n\u001b[32m---> \u001b[39m\u001b[32m11\u001b[39m \u001b[38;5;28mprint\u001b[39m(\u001b[43mconvert_fahrenheit\u001b[49m\u001b[43m(\u001b[49m\u001b[32;43m100\u001b[39;49m\u001b[43m,\u001b[49m\u001b[33;43m'\u001b[39;49m\u001b[33;43mskibidi\u001b[39;49m\u001b[33;43m'\u001b[39;49m\u001b[43m)\u001b[49m)\n",
      "\u001b[36mCell\u001b[39m\u001b[36m \u001b[39m\u001b[32mIn[12]\u001b[39m\u001b[32m, line 3\u001b[39m, in \u001b[36mconvert_fahrenheit\u001b[39m\u001b[34m(temperature_fahrenheit, target_scale)\u001b[39m\n\u001b[32m      2\u001b[39m \u001b[38;5;28;01mdef\u001b[39;00m\u001b[38;5;250m \u001b[39m\u001b[34mconvert_fahrenheit\u001b[39m(temperature_fahrenheit, target_scale=\u001b[33m'\u001b[39m\u001b[33mcelcius\u001b[39m\u001b[33m'\u001b[39m):\n\u001b[32m----> \u001b[39m\u001b[32m3\u001b[39m     \u001b[38;5;28;01massert\u001b[39;00m target_scale == \u001b[33m'\u001b[39m\u001b[33mcelcius\u001b[39m\u001b[33m'\u001b[39m \u001b[38;5;129;01mor\u001b[39;00m target_scale == \u001b[33m'\u001b[39m\u001b[33mkelvin\u001b[39m\u001b[33m'\u001b[39m, \u001b[33m'\u001b[39m\u001b[33mPlease enter only kelvin or celcius\u001b[39m\u001b[33m'\u001b[39m\n\u001b[32m      4\u001b[39m     \u001b[38;5;28;01mif\u001b[39;00m target_scale == \u001b[33m'\u001b[39m\u001b[33mkelvin\u001b[39m\u001b[33m'\u001b[39m:\n\u001b[32m      5\u001b[39m         kelvin = (temperature_fahrenheit-\u001b[32m32\u001b[39m)*(\u001b[32m5\u001b[39m/\u001b[32m9\u001b[39m)+\u001b[32m273.15\u001b[39m\n",
      "\u001b[31mAssertionError\u001b[39m: Please enter only kelvin or celcius"
     ]
    }
   ],
   "source": [
    "# trying the assertion: if expression is true, proceed ifelse block normally. if false, print assertion error\n",
    "def convert_fahrenheit(temperature_fahrenheit, target_scale='celcius'):\n",
    "    assert target_scale == 'celcius' or target_scale == 'kelvin', 'Please enter only kelvin or celcius'\n",
    "    if target_scale == 'kelvin':\n",
    "        kelvin = (temperature_fahrenheit-32)*(5/9)+273.15\n",
    "        return kelvin\n",
    "    else:\n",
    "        celcius = (temperature_fahrenheit-32)*(5/9)\n",
    "        return celcius\n",
    "\n",
    "print(convert_fahrenheit(100,'skibidi'))"
   ]
  },
  {
   "cell_type": "markdown",
   "id": "4884a067",
   "metadata": {},
   "source": [
    "## Exercise 3 (General Temperature Conversion) "
   ]
  },
  {
   "cell_type": "code",
   "execution_count": 11,
   "id": "475eb3b2",
   "metadata": {},
   "outputs": [
    {
     "name": "stdout",
     "output_type": "stream",
     "text": [
      "35.6\n",
      "310.92777777777775\n",
      "-203.14999999999998\n"
     ]
    }
   ],
   "source": [
    "def convert_kelvin(temperature_kelvin, target_scale ='celcius'):\n",
    "    assert target_scale == 'celcius' or target_scale == 'kelvin' or target_scale == 'fahrenheit', 'Please enter only kelvin or celcius'\n",
    "    if target_scale == 'fahrenheit':\n",
    "        fahrenheit = (temperature_kelvin+32)*(9/5)-273.15\n",
    "        return fahrenheit\n",
    "    else:\n",
    "        celcius = temperature_kelvin-273.15\n",
    "        return celcius\n",
    "def convert_temperature(temperature, source_scale, target_scale):\n",
    "    if source_scale == 'celcius':\n",
    "        return convert_celcius(temperature,target_scale)\n",
    "    elif source_scale == 'fahrenheit':\n",
    "        return convert_fahrenheit(temperature,target_scale)\n",
    "    elif source_scale == 'kelvin':\n",
    "        return convert_kelvin(temperature, target_scale)\n",
    "\n",
    "print(convert_temperature(2,'celcius','fahrenheit'))\n",
    "print(convert_temperature(100,'fahrenheit','kelvin'))\n",
    "print(convert_temperature(70,'kelvin','celcius'))\n"
   ]
  },
  {
   "cell_type": "code",
   "execution_count": null,
   "id": "69571fcd",
   "metadata": {},
   "outputs": [],
   "source": []
  }
 ],
 "metadata": {
  "kernelspec": {
   "display_name": "base",
   "language": "python",
   "name": "python3"
  },
  "language_info": {
   "codemirror_mode": {
    "name": "ipython",
    "version": 3
   },
   "file_extension": ".py",
   "mimetype": "text/x-python",
   "name": "python",
   "nbconvert_exporter": "python",
   "pygments_lexer": "ipython3",
   "version": "3.13.5"
  },
  "toc": {
   "base_numbering": 1,
   "nav_menu": {},
   "number_sections": true,
   "sideBar": true,
   "skip_h1_title": false,
   "title_cell": "Table of Contents",
   "title_sidebar": "Contents",
   "toc_cell": false,
   "toc_position": {},
   "toc_section_display": true,
   "toc_window_display": false
  }
 },
 "nbformat": 4,
 "nbformat_minor": 5
}
