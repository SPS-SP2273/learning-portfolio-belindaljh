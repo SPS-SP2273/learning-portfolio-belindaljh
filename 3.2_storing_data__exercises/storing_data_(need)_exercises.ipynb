{
 "cells": [
  {
   "cell_type": "markdown",
   "id": "f11dbb21",
   "metadata": {},
   "source": [
    "<div style=\"text-align:left;font-size:2em\"><span style=\"font-weight:bolder;font-size:1.25em\">SP2273 | Learning Portfolio</span><br><br><span style=\"font-weight:bold;color:darkred\">Storing Data (Need) Exercises</span></div>"
   ]
  },
  {
   "cell_type": "markdown",
   "id": "b4da0b69",
   "metadata": {},
   "source": [
    "# **Exercise 1 (Recallation on Lists and Arrays)**"
   ]
  },
  {
   "cell_type": "markdown",
   "id": "c723e496",
   "metadata": {},
   "source": [
    "### 1. similarities\n",
    "1. both lists and arrays are ways in python to store data which can be accessed later. \n",
    "1. order of items matter in both lists and arrays \n",
    "\n",
    "### 2. differences \n",
    "1. subsetting by masking only works for arrays, not lists \n",
    "1. Lists don't support element-wise arithmetic, but arrays do.\n",
    "    - **example: additional prompt below!**\n",
    "\n",
    "### 3. what is a dictionary?\n",
    "A dictionary can be used to store two sets of data that would otherwise usually require two lists to hold. It also uses a 'key' to access the corresponding value/item. "
   ]
  },
  {
   "cell_type": "code",
   "execution_count": 15,
   "id": "098cffbc",
   "metadata": {},
   "outputs": [
    {
     "name": "stdout",
     "output_type": "stream",
     "text": [
      "[11 12 13 14 15]\n",
      "[20 30 40 50 60]\n",
      "[1, 2, 3, 4, 5, 10, 20, 30, 40, 50]\n",
      "[11 22 33 44 55]\n",
      "[1, 2, 3, 4, 5, 1, 2, 3, 4, 5]\n",
      "[ 2  4  6  8 10]\n"
     ]
    }
   ],
   "source": [
    "# Exercise 1 Part 2(Additional Prompt): Lists vs Arrays (Adding & Multiplication)\n",
    "import numpy as np\n",
    "list1 = [1, 2, 3, 4, 5]\n",
    "list2 = [10, 20, 30, 40, 50]\n",
    "array1 = np.array(list1)\n",
    "array2 = np.array(list2)\n",
    "\n",
    "#Adding number - won't work for lists (error)\n",
    "print(array1 + 10) \n",
    "print(array2 + 10)\n",
    "\n",
    "#Adding another list \n",
    "print(list1 + list2)        #causes list to grow \n",
    "print(array1 + array2)      #element-wise operation \n",
    "\n",
    "#Multiplying by a number \n",
    "print(list1*2)              #causes list to grow \n",
    "print(array1*2)             #element-wise operation\n",
    "\n"
   ]
  },
  {
   "cell_type": "markdown",
   "id": "109bacdc",
   "metadata": {},
   "source": [
    "# **Exercise 2 (Indexing 1)**"
   ]
  },
  {
   "cell_type": "code",
   "execution_count": null,
   "id": "9aedd88e",
   "metadata": {},
   "outputs": [
    {
     "name": "stdout",
     "output_type": "stream",
     "text": [
      "a1\n",
      "c3\n",
      "e5\n",
      "g7\n",
      "i9\n"
     ]
    }
   ],
   "source": [
    "# print out elements with odd numbers\n",
    "py_list = [\"a1\", \"b2\", \"c3\", \"d4\", \"e5\", \"f6\", \"g7\", \"h8\", \"i9\", \"j10\"]\n",
    "print(py_list[0]) # Prints 'a1'\n",
    "print(py_list[2]) # Prints 'c3'\n",
    "print(py_list[4]) # Prints 'e5'\n",
    "print(py_list[6]) # Prints 'g7'\n",
    "print(py_list[8]) # Prints 'i9'"
   ]
  },
  {
   "cell_type": "markdown",
   "id": "3dc3c7b6",
   "metadata": {},
   "source": [
    "# **Exercise 3 (Indexing 2)**"
   ]
  },
  {
   "cell_type": "code",
   "execution_count": 3,
   "id": "8096c1eb",
   "metadata": {},
   "outputs": [
    {
     "name": "stdout",
     "output_type": "stream",
     "text": [
      "Carbon\n",
      "Nitrogen\n"
     ]
    }
   ],
   "source": [
    "# access element at index 4 using forward and backward indexing \n",
    "elements = ['Hydrogen',\n",
    "            'Helium', 'Lithium',\n",
    "            'Beryllium', 'Boron', 'Carbon',\n",
    "            'Nitrogen', 'Oxygen',\n",
    "            'Fluorine',\n",
    "            'Neon']\n",
    "# forward indexing\n",
    "print(elements[5])                  # first element at the start of sequence is index 0\n",
    "                                    # position = index + 1\n",
    "\n",
    "# backward indexing\n",
    "print(elements[-4])                 # last element from the back of the sequence is index -1\n"
   ]
  },
  {
   "cell_type": "markdown",
   "id": "70b0ebe0",
   "metadata": {},
   "source": [
    "# **Exercise 4 (How many ones)**"
   ]
  },
  {
   "cell_type": "code",
   "execution_count": null,
   "id": "8c82f0e8",
   "metadata": {},
   "outputs": [
    {
     "data": {
      "text/plain": [
       "np.int64(9)"
      ]
     },
     "metadata": {},
     "output_type": "display_data"
    }
   ],
   "source": [
    "import numpy as np\n",
    "numbers=[45, 60, 1, 30, 96, 1, 96, 57, 16, 1,\n",
    "        99, 62, 86, 43, 42, 60, 59, 1, 1, 35,\n",
    "        83, 47, 34, 28, 68, 23, 22, 92, 1, 79,\n",
    "        1, 29, 94, 72, 46, 47, 1, 74, 32, 20,\n",
    "        8, 37, 35, 1, 89, 29, 86, 19, 43, 61]                  \n",
    "np_numbers = np.array(numbers)     \n",
    "my_mask = np_numbers == 1    \n",
    "my_mask\n",
    "sum(my_mask)"
   ]
  },
  {
   "cell_type": "markdown",
   "id": "4a60c30b",
   "metadata": {},
   "source": [
    "# **Exercise 5**"
   ]
  },
  {
   "cell_type": "code",
   "execution_count": null,
   "id": "46c12ee9",
   "metadata": {},
   "outputs": [
    {
     "name": "stdout",
     "output_type": "stream",
     "text": [
      "mean of x_1 = 38.5\n",
      "mean of x_2 = 302.5\n",
      "stdev of x_1 = 32.41990129534635\n",
      "stdev of x_2 = 326.0893282522444\n",
      "numerator = 104362.5\n",
      "denominator = 105717.8383540356\n",
      "0.9871796626270701\n",
      "[[1.         0.98717966]\n",
      " [0.98717966 1.        ]]\n"
     ]
    }
   ],
   "source": [
    "x_1 = [1, 4, 9, 16, 25, 36, 49, 64, 81, 100]\n",
    "x_2 = [1, 8, 27, 64, 125, 216, 343, 512, 729, 1000]\n",
    "array_x_1 = np.array(x_1)\n",
    "array_x_2 = np.array(x_2)\n",
    "\n",
    "# determine means \n",
    "print('mean of x_1 =', np.mean(array_x_1))\n",
    "print('mean of x_2 =', np.mean(array_x_2))\n",
    "\n",
    "# determine standard deviations\n",
    "print('stdev of x_1 =', np.std(array_x_1))\n",
    "print('stdev of x_2 =', np.std(array_x_2))\n",
    "\n",
    "# numerator \n",
    "mean_x1 = 38.5 \n",
    "mean_x2 = 302.5\n",
    "x1 = array_x_1-mean_x1\n",
    "x2 = array_x_2-mean_x2\n",
    "numerator = sum(x1*x2)\n",
    "print('numerator =', numerator)\n",
    "\n",
    "# denominator \n",
    "denominator = np.sqrt(sum((x1)**2)*sum((x2)**2))\n",
    "print('denominator =', denominator)\n",
    "\n",
    "# find r \n",
    "r = numerator/denominator\n",
    "print(r)\n",
    "\n",
    "# cross-check value of r with function \n",
    "print(np.corrcoef(array_x_1, array_x_2))\n",
    "\n",
    "\n",
    "\n"
   ]
  },
  {
   "cell_type": "code",
   "execution_count": null,
   "id": "2e36d781",
   "metadata": {},
   "outputs": [],
   "source": []
  }
 ],
 "metadata": {
  "kernelspec": {
   "display_name": "base",
   "language": "python",
   "name": "python3"
  },
  "language_info": {
   "codemirror_mode": {
    "name": "ipython",
    "version": 3
   },
   "file_extension": ".py",
   "mimetype": "text/x-python",
   "name": "python",
   "nbconvert_exporter": "python",
   "pygments_lexer": "ipython3",
   "version": "3.13.5"
  },
  "toc": {
   "base_numbering": 1,
   "nav_menu": {},
   "number_sections": true,
   "sideBar": true,
   "skip_h1_title": false,
   "title_cell": "Table of Contents",
   "title_sidebar": "Contents",
   "toc_cell": false,
   "toc_position": {},
   "toc_section_display": true,
   "toc_window_display": false
  }
 },
 "nbformat": 4,
 "nbformat_minor": 5
}
