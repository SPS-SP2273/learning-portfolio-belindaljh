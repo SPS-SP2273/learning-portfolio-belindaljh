{
 "cells": [
  {
   "attachments": {},
   "cell_type": "markdown",
   "id": "123456",
   "metadata": {},
   "source": [
    "<div style=\"text-align:left;font-size:2em\"><span style=\"font-weight:bolder;font-size:1.25em\">SP2273 | Learning Portfolio</span><br><br><span style=\"font-weight:bold;color:darkred\">Storing Data (Good) Exercises</span></div>"
   ]
  },
  {
   "cell_type": "markdown",
   "id": "5a5f1c8b",
   "metadata": {},
   "source": [
    "## Exercise 1 (recall)"
   ]
  },
  {
   "cell_type": "markdown",
   "id": "700a8b8f",
   "metadata": {},
   "source": [
    "| **Term**   |  **Brief Description**                                                                                                                                                                                                                          |\n",
    "|------------|-------------------------------------------------------------------------------------------------------------------------------------------------------------------------------------------------------------------------------------------------|\n",
    "| Subsetting | Accessing a smaller selection of elements derived from a larger collection (lists/arrays). Whatever is in the smaller collection is also present in the larger collection.                                                                      |\n",
    "| Indexing   | Selecting an element from a list/array/sequence using its position (i.e. index) in the sequence.  (indexing starts from 0 in python.)                                                                                                           |\n",
    "| Slicing    | Selecting a RANGE of elements.  Must specify to python where to start and where to end, i.e.'define' the range. (same for both array and list) _If slice with [a:z], the slice will start at a and end at z-1, giving a total of z-1 elements._ |\n",
    "| Masking    | Upon setting a specific condition on what you want your mask to do/be in the array, masking will allow python to return and show only elements within the array that satisfies the conditions (true!).                                          |"
   ]
  },
  {
   "cell_type": "markdown",
   "id": "084c870f",
   "metadata": {},
   "source": [
    "## Exercise 2 (find 'odd' letters)\n"
   ]
  },
  {
   "cell_type": "code",
   "execution_count": 2,
   "id": "da2c7cdd",
   "metadata": {},
   "outputs": [
    {
     "name": "stdout",
     "output_type": "stream",
     "text": [
      "['1' '3' '2' '4' '5' '7' '6' '8' '10' '9']\n",
      "[1 1 0 0 1 1 0 0 0 1]\n",
      "[ True  True False False  True  True False False False  True]\n",
      "['A' 'C' 'E' 'G' 'I']\n"
     ]
    }
   ],
   "source": [
    "# Use masking to subset the letters that correspond to the odd numbers. I.e., get the result [A, C, E, G, I].\n",
    "# ps i followed the steps provided in the exercise instructions\n",
    "import numpy as np\n",
    "np_array_2d = np.array([[1, \"A\"], [3, \"C\"], [2, \"B\"], [4, \"D\"],\n",
    "                        [5, \"E\"], [7, \"G\"], [6, \"F\"], [8, \"H\"],\n",
    "                        [10, \"J\"], [9, \"I\"]])\n",
    "\n",
    "print(np_array_2d[:10,0])                                     # Subset all the first elements \n",
    "int_array_2d = np_array_2d[:10,0].astype(int)               # Convert them into integers \n",
    "print(int_array_2d%2)                                   # Get the remainders of the integers after division by 2\n",
    "my_mask = int_array_2d%2 == 0  \n",
    "print(~my_mask)                            # Use above results to create a mask that checks if remainder is zero or not. \n",
    "                                            # This identifies location of the odd numbers\n",
    "print(np_array_2d[~my_mask, 1])             # Use the mask and extract corresponding second elements, i.e. the letters. \n",
    "                                            # From np_array_2d, give all rows where ~my_mask is True, but only column 1."
   ]
  },
  {
   "cell_type": "markdown",
   "id": "d37a3765",
   "metadata": {},
   "source": [
    "## Exercise 3 "
   ]
  },
  {
   "cell_type": "code",
   "execution_count": 5,
   "id": "fb076c02",
   "metadata": {},
   "outputs": [
    {
     "name": "stdout",
     "output_type": "stream",
     "text": [
      "[[ 1  0  1 -1 -1]\n",
      " [ 1 -1  1 -1 -1]\n",
      " [ 1 -1 -1  1 -1]\n",
      " [-1  1  1 -1 -1]\n",
      " [ 1 -1  1 -1  1]]\n"
     ]
    }
   ],
   "source": [
    "py_list = [[66, 50, 57, -1, -1],\n",
    "            [92, -1, 88, -1, -1],\n",
    "            [75, -1, -1, 76, -1],\n",
    "            [-1, 51, 87, -1, -1],\n",
    "            [71, -1, 67, -1, 69]]\n",
    "np_array = np.array(py_list)\n",
    "# using masking, change:\n",
    "    # values below 50 to -1,\n",
    "    # values above 50 to +1, and\n",
    "    # values equal to 50 to 0.\n",
    "\n",
    "mask_below = np_array < 50\n",
    "mask_above = np_array > 50\n",
    "mask_equal = np_array == 50\n",
    "\n",
    "# replacement values \n",
    "np_array[mask_below] = -1\n",
    "np_array[mask_above] = 1\n",
    "np_array[mask_equal] = 0\n",
    "print(np_array)\n",
    "\n",
    "\n",
    "\n",
    "\n",
    "\n",
    "\n",
    "\n"
   ]
  },
  {
   "cell_type": "code",
   "execution_count": null,
   "id": "bdde10e7",
   "metadata": {},
   "outputs": [],
   "source": []
  }
 ],
 "metadata": {
  "kernelspec": {
   "display_name": "base",
   "language": "python",
   "name": "python3"
  },
  "language_info": {
   "codemirror_mode": {
    "name": "ipython",
    "version": 3
   },
   "file_extension": ".py",
   "mimetype": "text/x-python",
   "name": "python",
   "nbconvert_exporter": "python",
   "pygments_lexer": "ipython3",
   "version": "3.13.5"
  },
  "toc": {
   "base_numbering": 1,
   "nav_menu": {},
   "number_sections": true,
   "sideBar": true,
   "skip_h1_title": false,
   "title_cell": "Table of Contents",
   "title_sidebar": "Contents",
   "toc_cell": false,
   "toc_position": {},
   "toc_section_display": true,
   "toc_window_display": false
  }
 },
 "nbformat": 4,
 "nbformat_minor": 5
}
