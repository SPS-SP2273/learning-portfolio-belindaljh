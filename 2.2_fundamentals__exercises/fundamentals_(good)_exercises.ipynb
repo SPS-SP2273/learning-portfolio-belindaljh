{
 "cells": [
  {
   "attachments": {},
   "cell_type": "markdown",
   "id": "123456",
   "metadata": {},
   "source": [
    "<div style=\"text-align:left;font-size:2em\"><span style=\"font-weight:bolder;font-size:1.25em\">SP2273 | Learning Portfolio</span><br><br><span style=\"font-weight:bold;color:darkred\">Fundamentals (Good) Exercises</span></div>"
   ]
  },
  {
   "cell_type": "markdown",
   "id": "e0b4ed62",
   "metadata": {},
   "source": [
    "## Exercise 1 (f-strings)"
   ]
  },
  {
   "cell_type": "code",
   "execution_count": 4,
   "id": "d133d96d",
   "metadata": {},
   "outputs": [
    {
     "name": "stdout",
     "output_type": "stream",
     "text": [
      "You have entered 10 .\n"
     ]
    }
   ],
   "source": [
    "# example: using input() function to get info from user \n",
    "user_input = input('Please provide me with a number.')\n",
    "print('You have entered', user_input,'.')\n"
   ]
  },
  {
   "cell_type": "code",
   "execution_count": 7,
   "id": "e963cc25",
   "metadata": {},
   "outputs": [
    {
     "name": "stdout",
     "output_type": "stream",
     "text": [
      "How you doin Rachel Green !\n"
     ]
    }
   ],
   "source": [
    "# task 1: ask for user's name and print greeting\n",
    "user_input = input('What is your name?')\n",
    "print('How you doin', user_input,'!')"
   ]
  },
  {
   "cell_type": "code",
   "execution_count": 8,
   "id": "9fc676eb",
   "metadata": {},
   "outputs": [
    {
     "name": "stdout",
     "output_type": "stream",
     "text": [
      "My name is Belinda and I am 19 years old.\n"
     ]
    }
   ],
   "source": [
    "# task 2: ask for name then ask for age and print introduction \n",
    "user_input_name = input('What is your name?')\n",
    "user_input_age = input('What is your age?')\n",
    "print('My name is', user_input_name, 'and I am', user_input_age, 'years old.')"
   ]
  },
  {
   "cell_type": "code",
   "execution_count": null,
   "id": "e6d19df1",
   "metadata": {},
   "outputs": [
    {
     "name": "stdout",
     "output_type": "stream",
     "text": [
      "The value of pi to 2 decimal places is 3.14\n",
      "The value of pi to 3 decimal places is 3.1416\n",
      "The value of pi to 4 decimal places is 3.14159\n"
     ]
    }
   ],
   "source": [
    "# task 3: produce various f-strings given value of pi (compare code w someone)\n",
    "pi = 3.141592653589793\n",
    "print(f'The value of pi to 2 decimal places is {pi:.2f}') # add f for floats\n",
    "print(f'The value of pi to 3 decimal places is {pi:.4f}')\n",
    "print(f'The value of pi to 4 decimal places is {pi:.5f}')\n"
   ]
  },
  {
   "cell_type": "code",
   "execution_count": null,
   "id": "7105274f",
   "metadata": {},
   "outputs": [
    {
     "name": "stdout",
     "output_type": "stream",
     "text": [
      "Apple Banana Orange\n"
     ]
    }
   ],
   "source": [
    "# task 4: use given data to produce printout\n",
    "\n",
    "\n",
    "\n"
   ]
  },
  {
   "cell_type": "markdown",
   "id": "577887c0",
   "metadata": {},
   "source": [
    "## Exercise 2 (grades)"
   ]
  },
  {
   "cell_type": "code",
   "execution_count": null,
   "id": "48d9b0d4",
   "metadata": {},
   "outputs": [
    {
     "name": "stdout",
     "output_type": "stream",
     "text": [
      "Enter the student's score: 100\n",
      "The student's letter grade is: A\n"
     ]
    }
   ],
   "source": [
    "# use if, elif, else\n",
    "def score_to_grade(scores):             # set up conditions/criteria -> what output to produce given the input entered\n",
    "    if 70 <= scores <= 100:             # define what 'scores' are here\n",
    "        return 'A'\n",
    "    elif 50 <= scores <= 69:\n",
    "        return 'B'\n",
    "    elif 35 <= scores <= 49:\n",
    "        return 'C'\n",
    "    elif 0 <= scores <= 34:\n",
    "        return 'Fail'\n",
    "    else: \n",
    "        return 'Invalid score. Please enter a score from 0-100.'    #error message for any number entered that is not 0 to 100\n",
    "        \n",
    "try:                                                       # 'try-except' found under Functions (good) chapter\n",
    "    student_score = int(input('Enter student\\'s score.'))  # convert the input into a number \n",
    "    print('Enter the student\\'s score:', student_score)\n",
    "    print('The student\\'s letter grade is:', score_to_grade(student_score))\n",
    "except ValueError:                                         # python cannot convert things like 'hi' into integer \n",
    "    print('Invalid score. Please enter a numerical score from 0-100.')  #error message if non-number (?) inputs are entered.\n",
    "\n"
   ]
  },
  {
   "cell_type": "markdown",
   "id": "bf688433",
   "metadata": {},
   "source": [
    "## Exercise 3 (Debug Code)"
   ]
  },
  {
   "cell_type": "code",
   "execution_count": null,
   "id": "5f1a59fc",
   "metadata": {},
   "outputs": [
    {
     "name": "stdout",
     "output_type": "stream",
     "text": [
      "Invalid input\n",
      "1\n"
     ]
    }
   ],
   "source": [
    "#identify 3 errors in the following code \n",
    "def factorial(n):\n",
    "    if n > 0:                           # error 1: as long as n>0, won't get expected results of n! at all. (it's the first line in the if else elif)\n",
    "        return \"Invalid input\"\n",
    "    elif n != 0:                        # error 2: same as above but for n =/= 0 \n",
    "        return 1\n",
    "    else:\n",
    "        result = 1\n",
    "        for number in range(1, n+1):    # eg if n = 3, then range will give 1,2,3,4. \n",
    "            result += number            # error 3: factorial is multiply, not addition\n",
    "        return result\n",
    "\n",
    "\n",
    "print(factorial(5))   # Testing, expected output: 120\n",
    "print(factorial(-1))  # Testing, expected output: Invalid input\n"
   ]
  },
  {
   "cell_type": "code",
   "execution_count": 32,
   "id": "47b88d07",
   "metadata": {},
   "outputs": [
    {
     "name": "stdout",
     "output_type": "stream",
     "text": [
      "120\n",
      "Invalid input\n"
     ]
    }
   ],
   "source": [
    "# debugging \n",
    "def factorial(n):\n",
    "    if n < 0:\n",
    "        return \"Invalid input\"\n",
    "    elif n == 0:\n",
    "        return 1\n",
    "    else:\n",
    "        result = 1\n",
    "        for number in range(1, n+1):\n",
    "            result *= number\n",
    "        return result\n",
    "\n",
    "\n",
    "print(factorial(5))   # Testing, expected output: 120\n",
    "print(factorial(-1))  # Testing, expected output: Invalid input"
   ]
  },
  {
   "cell_type": "code",
   "execution_count": null,
   "id": "3f3af50a",
   "metadata": {},
   "outputs": [],
   "source": []
  }
 ],
 "metadata": {
  "kernelspec": {
   "display_name": "base",
   "language": "python",
   "name": "python3"
  },
  "language_info": {
   "codemirror_mode": {
    "name": "ipython",
    "version": 3
   },
   "file_extension": ".py",
   "mimetype": "text/x-python",
   "name": "python",
   "nbconvert_exporter": "python",
   "pygments_lexer": "ipython3",
   "version": "3.13.5"
  },
  "toc": {
   "base_numbering": 1,
   "nav_menu": {},
   "number_sections": true,
   "sideBar": true,
   "skip_h1_title": false,
   "title_cell": "Table of Contents",
   "title_sidebar": "Contents",
   "toc_cell": false,
   "toc_position": {},
   "toc_section_display": true,
   "toc_window_display": false
  }
 },
 "nbformat": 4,
 "nbformat_minor": 5
}
