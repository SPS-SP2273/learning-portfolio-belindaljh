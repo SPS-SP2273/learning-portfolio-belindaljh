{
 "cells": [
  {
   "attachments": {},
   "cell_type": "markdown",
   "id": "123456",
   "metadata": {},
   "source": [
    "<div style=\"text-align:left;font-size:2em\"><span style=\"font-weight:bolder;font-size:1.25em\">SP2273 | Learning Portfolio</span><br><br><span style=\"font-weight:bold;color:darkred\">Fundamentals (Need) Exercises</span></div>"
   ]
  },
  {
   "cell_type": "markdown",
   "id": "28c883a0",
   "metadata": {},
   "source": [
    "# Exercise 1"
   ]
  },
  {
   "cell_type": "markdown",
   "id": "b33e3a8b",
   "metadata": {},
   "source": [
    "1. Different ways (function)to store information\n",
    "1. Importing packages to equip Python with more functions \n",
    "1. Print () function to get output \n",
    "1. Comment function using # \n",
    "1.  _using = to set something equal/assign a value (can it also be said to 'define' something?)_\n",
    "1. _using == to ask a question and check if somehting is equal_\n",
    "1. _using brackets_\n",
    "    - _( ) used for calls to function and for mathematics_\n",
    "    - _[ ] used for lists of data_\n",
    "    - _{ } used to store data in dictionaries_\n",
    "1. _dot (.) used to indicate ownership_\n",
    "    - _eg. x.y = y **'belongs'** to x_\n"
   ]
  },
  {
   "cell_type": "markdown",
   "id": "e341ca5a",
   "metadata": {},
   "source": [
    "# Exercise 2 (Debug)"
   ]
  },
  {
   "cell_type": "code",
   "execution_count": 5,
   "id": "5cfc6770",
   "metadata": {},
   "outputs": [
    {
     "ename": "IndentationError",
     "evalue": "unindent does not match any outer indentation level (<string>, line 4)",
     "output_type": "error",
     "traceback": [
      "  \u001b[36mFile \u001b[39m\u001b[32m<string>:4\u001b[39m\n\u001b[31m    \u001b[39m\u001b[31mPrint(x, y, z)          # unnecessary indent\u001b[39m\n                                                ^\n\u001b[31mIndentationError\u001b[39m\u001b[31m:\u001b[39m unindent does not match any outer indentation level\n"
     ]
    }
   ],
   "source": [
    "# original code given: \n",
    "x, y = 3, 4\n",
    "        z =sqrt(x*2 + y**2) # missing asterisk to get x^2, sqrt not defined for python (?)\n",
    "    Print(x, y, z)          # unnecessary indent"
   ]
  },
  {
   "cell_type": "code",
   "execution_count": 3,
   "id": "434f6990",
   "metadata": {},
   "outputs": [
    {
     "ename": "NameError",
     "evalue": "name 'sqrt' is not defined",
     "output_type": "error",
     "traceback": [
      "\u001b[31m---------------------------------------------------------------------------\u001b[39m",
      "\u001b[31mNameError\u001b[39m                                 Traceback (most recent call last)",
      "\u001b[36mCell\u001b[39m\u001b[36m \u001b[39m\u001b[32mIn[3]\u001b[39m\u001b[32m, line 2\u001b[39m\n\u001b[32m      1\u001b[39m x, y = \u001b[32m3\u001b[39m, \u001b[32m4\u001b[39m \n\u001b[32m----> \u001b[39m\u001b[32m2\u001b[39m z = \u001b[43msqrt\u001b[49m(x**\u001b[32m2\u001b[39m + y**\u001b[32m2\u001b[39m)\n\u001b[32m      3\u001b[39m \u001b[38;5;28mprint\u001b[39m(x, y, z)\n",
      "\u001b[31mNameError\u001b[39m: name 'sqrt' is not defined"
     ]
    }
   ],
   "source": [
    "x, y = 3, 4 \n",
    "z = sqrt(x**2 + y**2)\n",
    "print(x, y, z)"
   ]
  },
  {
   "cell_type": "code",
   "execution_count": 18,
   "id": "64b4469c",
   "metadata": {},
   "outputs": [
    {
     "name": "stdout",
     "output_type": "stream",
     "text": [
      "3 4 5.0\n"
     ]
    }
   ],
   "source": [
    "# Debug attempt \n",
    "import math\n",
    "x, y = 3, 4\n",
    "z = math.sqrt(x**2 + y**2)\n",
    "print(x, y, z)"
   ]
  },
  {
   "cell_type": "markdown",
   "id": "afdb897a",
   "metadata": {},
   "source": [
    "# Exercise 3"
   ]
  },
  {
   "cell_type": "markdown",
   "id": "4f24ef75",
   "metadata": {},
   "source": [
    "|  # | **Term**      | **Description**                                                                                                                |\n",
    "|:--:|---------------|--------------------------------------------------------------------------------------------------------------------------------|\n",
    "| 1  | Function      | something like a defined 'tool' that will compute an input to return  an output, though sometimes it may not accept the input. |\n",
    "| 2  | Arguments     | what we write as in input (specific instructions for python)  within a function.                                               |\n",
    "| 3  | Comments      | allows us to keep track of what the lines of codes do or just  simply make some notes for future references                    |\n",
    "| 4  | Indentations  | spaces at the start of a line of code for better structure and  readily.                                                       |\n",
    "| 5  | Packages      | pre-written code that allows python to acquire extra functionality.                                                            |\n",
    "| 6  | .             | to give 'ownership'                                                                                                            |\n",
    "| 7  | :             | to indicate a block of code when introducingdefining functions/loops.                                                          |\n",
    "| 8  | [ ]           | for lists, i.e. a collection of items                                                                                          |\n",
    "| 9  | [ [], [] ]    | to make a list within a list (list of lists?)                                                                                  |\n",
    "| 10 | { }           | to store data/information in a dictionary                                                                                      |"
   ]
  },
  {
   "cell_type": "markdown",
   "id": "cc96f20a",
   "metadata": {},
   "source": [
    "# Exercise 4"
   ]
  },
  {
   "cell_type": "code",
   "execution_count": 13,
   "id": "eae766c9",
   "metadata": {},
   "outputs": [
    {
     "data": {
      "text/plain": [
       "2.5"
      ]
     },
     "execution_count": 13,
     "metadata": {},
     "output_type": "execute_result"
    }
   ],
   "source": [
    "5/2         #basic mathematical division, where 5 is divided by 2 to give 2.5"
   ]
  },
  {
   "cell_type": "code",
   "execution_count": 35,
   "id": "1514b3c2",
   "metadata": {},
   "outputs": [
    {
     "data": {
      "text/plain": [
       "2"
      ]
     },
     "execution_count": 35,
     "metadata": {},
     "output_type": "execute_result"
    }
   ],
   "source": [
    "5//2        # output is the quotient after dividing the first digit by the second digit, \n",
    "            # without including remainder or decimals"
   ]
  },
  {
   "cell_type": "code",
   "execution_count": 34,
   "id": "fef73e20",
   "metadata": {},
   "outputs": [
    {
     "name": "stdout",
     "output_type": "stream",
     "text": [
      "0\n",
      "2\n",
      "1\n"
     ]
    }
   ],
   "source": [
    "2//5\n",
    "5//2\n",
    "1//1\n",
    "print(2//5)\n",
    "print(5//2)\n",
    "print(1//1)"
   ]
  },
  {
   "cell_type": "code",
   "execution_count": 27,
   "id": "31df65b1",
   "metadata": {},
   "outputs": [
    {
     "data": {
      "text/plain": [
       "1"
      ]
     },
     "execution_count": 27,
     "metadata": {},
     "output_type": "execute_result"
    }
   ],
   "source": [
    "5%2     # the output is the remainder after dividing the first digit by the second digit"
   ]
  },
  {
   "cell_type": "code",
   "execution_count": 32,
   "id": "7d02fa5c",
   "metadata": {},
   "outputs": [
    {
     "name": "stdout",
     "output_type": "stream",
     "text": [
      "0\n",
      "0\n",
      "0\n",
      "2\n",
      "1\n"
     ]
    }
   ],
   "source": [
    "1%1\n",
    "2%2\n",
    "6%2\n",
    "5%3\n",
    "5%2\n",
    "print(1%1)\n",
    "print(2%2)\n",
    "print(6%2)\n",
    "print(5%3)\n",
    "print(5%2)"
   ]
  },
  {
   "cell_type": "code",
   "execution_count": null,
   "id": "c988d7fc",
   "metadata": {},
   "outputs": [],
   "source": []
  }
 ],
 "metadata": {
  "kernelspec": {
   "display_name": "base",
   "language": "python",
   "name": "python3"
  },
  "language_info": {
   "codemirror_mode": {
    "name": "ipython",
    "version": 3
   },
   "file_extension": ".py",
   "mimetype": "text/x-python",
   "name": "python",
   "nbconvert_exporter": "python",
   "pygments_lexer": "ipython3",
   "version": "3.13.5"
  },
  "toc": {
   "base_numbering": 1,
   "nav_menu": {},
   "number_sections": true,
   "sideBar": true,
   "skip_h1_title": false,
   "title_cell": "Table of Contents",
   "title_sidebar": "Contents",
   "toc_cell": false,
   "toc_position": {},
   "toc_section_display": true,
   "toc_window_display": false
  }
 },
 "nbformat": 4,
 "nbformat_minor": 5
}
