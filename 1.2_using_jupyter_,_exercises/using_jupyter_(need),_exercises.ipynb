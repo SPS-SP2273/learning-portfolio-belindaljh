{
 "cells": [
  {
   "attachments": {},
   "cell_type": "markdown",
   "id": "123456",
   "metadata": {},
   "source": [
    "<div style=\"text-align:left;font-size:2em\"><span style=\"font-weight:bolder;font-size:1.25em\">SP2273 | Learning Portfolio</span><br><br><span style=\"font-weight:bold;color:darkred\">Using Jupyter (Need), Exercises</span></div>"
   ]
  },
  {
   "attachments": {},
   "cell_type": "markdown",
   "id": "70ba2369",
   "metadata": {},
   "source": [
    "## 1 Quadratic Equations"
   ]
  },
  {
   "attachments": {},
   "cell_type": "markdown",
   "id": "7a9a4fb0",
   "metadata": {},
   "source": [
    "### **Introduction**"
   ]
  },
  {
   "cell_type": "markdown",
   "id": "dc25b549",
   "metadata": {},
   "source": [
    "![](https://upload.wikimedia.org/wikipedia/commons/thumb/f/f8/Polynomialdeg2.svg/450px-Polynomialdeg2.svg.png)\n",
    "\n",
    "*(Image from the [Wikipedia page on Quadratic equations](https://en.wikipedia.org/wiki/Quadratic_equation))*\n",
    "\n",
    "The general form of a quadratic equation is: \n",
    "$$ax^2 + bx + c = 0$$"
   ]
  },
  {
   "attachments": {},
   "cell_type": "markdown",
   "id": "3defb616",
   "metadata": {},
   "source": [
    "### **Solutions**"
   ]
  },
  {
   "cell_type": "markdown",
   "id": "cc6dea5f",
   "metadata": {},
   "source": [
    "Provided $a \\ne 0$, we can use an elementary algebraic method called [completing the square](https://en.wikipedia.org/wiki/Quadratic_equation) to show that a quadratic equation has the following solution: \n",
    "$$\n",
    "x = \\dfrac{-b \\pm \\sqrt{b^2-4ac}}{2a}\n",
    "$$"
   ]
  },
  {
   "attachments": {},
   "cell_type": "markdown",
   "id": "f6b633da",
   "metadata": {},
   "source": [
    "### **Discriminant**"
   ]
  },
  {
   "cell_type": "markdown",
   "id": "3d1eaa19",
   "metadata": {},
   "source": [
    "The quantity $\\Delta$ $= b^2 - 4ac$ is called the **discriminant** of the equation and decides the nature of its solutions. The table below shows the various possibilities. \n",
    "\n",
    "|       **Discriminant**       | **Roots**                            |\n",
    "|:----------------------------:|--------------------------------------|\n",
    "| $\\Delta$ $= b^2 -4ac = 0$    | A single solution of $-b/(2a)$       |\n",
    "| $\\Delta$ $= b^2 - 4ac \\gt 0$ | Two distinct solutions               |\n",
    "| $\\Delta$ $= b^2 - 4ac \\lt 0$ | No real solutions; both are complex. |"
   ]
  },
  {
   "cell_type": "markdown",
   "id": "ce8b332d",
   "metadata": {},
   "source": [
    "# Exercise 2 (In Your Own Words) "
   ]
  },
  {
   "cell_type": "markdown",
   "id": "fc64fcf3",
   "metadata": {},
   "source": [
    "1. Git Repository: \n",
    "    - Can be useful in facilitating collaborative work among multiple people involved in the same project, where each person can work on their own part independently while having all these changes merged back into the main project. \n",
    "    - The repository tracks all the changes made to the files in a project, which also means that the user is able keep track/refer to an entire history of changes they have made. This also allows for comparison of versions and understanding on the project's progress. \n",
    "1. Changes \n",
    "1. A commit is:\n",
    "    - When we have chosen to record and save the selected changes of a file. \n",
    "    - Snapshot of your repository at one point in time\n",
    "1. A push is:  \n",
    "    - When Git 'uploads' (i.e. pushes) the commits made to the remote repository ('cloud'), syncing up the changes made to the file on local device to that remote repository. \n",
    "    - This can be useful in situations such as when one has to use another device to work on their project/files. They can still access the same files and changes made from the remote repository from the new device by 'pulling'. \n",
    "1. A pull is:\n",
    "    - Copies changes from the remote repository directly into local device, allowing users to view updates/changes made. \n",
    "    - Useful in collaborative work as it ensures that independent files/changes/progress is up-to-date with the main project. \n",
    "1. Difference between Github and Github desktop: \n",
    "    - Github = online hosting service that allows for repositories to be stored in the cloud \n",
    "    - Github desktop has a GUI that simplifies commands/functions, allowing users to interact with Git repositories and Github. "
   ]
  },
  {
   "cell_type": "markdown",
   "id": "49c8d196",
   "metadata": {},
   "source": [
    "# Exercise 3 (A Matter of Statistics)"
   ]
  },
  {
   "cell_type": "markdown",
   "id": "ab632fc8",
   "metadata": {},
   "source": [
    "$$\n",
    "\\mu = \\dfrac{1}{n} \\sum_{i=1}^{n} x_i\n",
    "$$"
   ]
  },
  {
   "cell_type": "markdown",
   "id": "0e8ab41b",
   "metadata": {},
   "source": [
    "$$\n",
    "\\sigma = \\sqrt{\\dfrac{1}{n} \\sum_{i=1}^{n} (x_i - \\mu)^2}\n",
    "$$"
   ]
  },
  {
   "cell_type": "markdown",
   "id": "fcf00c49",
   "metadata": {},
   "source": [
    "$$\n",
    "r = \\dfrac{\\sum_{i=1}^{n}(x_i - \\mu x)(y_i - \\mu y)}{\\sqrt{\\sum_{i=1}^{n}(x_i - \\mu x)^2 \\sum_{i=1}^{n}(y_i - \\mu y)^2}}\n",
    "$$"
   ]
  }
 ],
 "metadata": {
  "kernelspec": {
   "display_name": "base",
   "language": "python",
   "name": "python3"
  },
  "language_info": {
   "codemirror_mode": {
    "name": "ipython",
    "version": 3
   },
   "file_extension": ".py",
   "mimetype": "text/x-python",
   "name": "python",
   "nbconvert_exporter": "python",
   "pygments_lexer": "ipython3",
   "version": "3.13.5"
  },
  "toc": {
   "base_numbering": 1,
   "nav_menu": {},
   "number_sections": true,
   "sideBar": true,
   "skip_h1_title": false,
   "title_cell": "Table of Contents",
   "title_sidebar": "Contents",
   "toc_cell": false,
   "toc_position": {},
   "toc_section_display": true,
   "toc_window_display": false
  }
 },
 "nbformat": 4,
 "nbformat_minor": 5
}
